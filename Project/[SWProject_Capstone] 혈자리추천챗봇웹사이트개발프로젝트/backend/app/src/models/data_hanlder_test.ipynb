{
 "cells": [
  {
   "cell_type": "code",
   "execution_count": 52,
   "metadata": {},
   "outputs": [],
   "source": [
    "import pandas as pd\n",
    "import numpy as np\n",
    "import pymysql\n",
    "import json\n",
    "\n",
    "from janome.tokenizer import Tokenizer\n",
    "from gensim.models import Word2Vec\n",
    "from sklearn.metrics.pairwise import cosine_similarity\n",
    "    "
   ]
  },
  {
   "cell_type": "code",
   "execution_count": 53,
   "metadata": {},
   "outputs": [],
   "source": [
    "def connect_sql():\n",
    "\n",
    "    connection = pymysql.connect(\n",
    "        host = 'localhost' ,\n",
    "        user = 'root' ,\n",
    "        password = 'snskdhkskK123!' ,\n",
    "        database = 'project_DB'\n",
    "    )\n",
    "\n",
    "    query = 'SELECT * FROM ORIG_MRDN_TB'\n",
    "    df = pd.read_sql(query , connection)\n",
    "\n",
    "    connection.close()\n",
    "\n",
    "    return df"
   ]
  },
  {
   "cell_type": "code",
   "execution_count": null,
   "metadata": {},
   "outputs": [],
   "source": [
    "def calc_cosine(prompt):\n",
    "    prompt = [prompt]\n",
    "    data = connect_sql()\n",
    "    tokenizer = Tokenizer()\n",
    "    tokenized_data = [[token.surface for token in tokenizer.tokenize(sentence)] for sentence in prompt]\n",
    "    w2v_model = Word2Vec(sentences = tokenized_data , vector_size = 100 , window = 5 , min_count = 1 ,\n",
    "                         workers = 4)\n",
    "    \n",
    "    sentence_embeddings = [\n",
    "        sum([w2v_model.wv[word] for word in sentence if word in w2v_model.wv]) / len(sentence)\n",
    "        for sentence in tokenized_data\n",
    "    ]\n",
    "\n",
    "    similarity_scores = []\n",
    "    for idx in range(data.shape[0]):\n",
    "        similarity_score = cosine_similarity(sentence_embeddings , [json.loads(data.loc[idx , 'EMBEDDED_INFORMATION'])])\n",
    "        similarity_scores.append((idx , similarity_score))\n",
    "    return similarity_scores"
   ]
  },
  {
   "cell_type": "code",
   "execution_count": 59,
   "metadata": {},
   "outputs": [
    {
     "name": "stderr",
     "output_type": "stream",
     "text": [
      "/var/folders/cg/w5448dgs6vgg_kqyxn1mmxd80000gn/T/ipykernel_36087/2289350848.py:11: UserWarning: pandas only supports SQLAlchemy connectable (engine/connection) or database string URI or sqlite3 DBAPI2 connection. Other DBAPI2 objects are not tested. Please consider using SQLAlchemy.\n",
      "  df = pd.read_sql(query , connection)\n"
     ]
    }
   ],
   "source": [
    "similarity_data = calc_cosine('肩こり')"
   ]
  },
  {
   "cell_type": "code",
   "execution_count": null,
   "metadata": {},
   "outputs": [],
   "source": []
  }
 ],
 "metadata": {
  "kernelspec": {
   "display_name": "Dacon",
   "language": "python",
   "name": "python3"
  },
  "language_info": {
   "codemirror_mode": {
    "name": "ipython",
    "version": 3
   },
   "file_extension": ".py",
   "mimetype": "text/x-python",
   "name": "python",
   "nbconvert_exporter": "python",
   "pygments_lexer": "ipython3",
   "version": "3.12.0"
  }
 },
 "nbformat": 4,
 "nbformat_minor": 2
}
