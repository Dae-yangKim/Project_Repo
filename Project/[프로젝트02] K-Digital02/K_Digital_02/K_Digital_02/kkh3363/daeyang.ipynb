{
 "cells": [
  {
   "cell_type": "code",
   "execution_count": 44,
   "metadata": {},
   "outputs": [],
   "source": [
    "import pandas as pd"
   ]
  },
  {
   "cell_type": "code",
   "execution_count": 45,
   "metadata": {},
   "outputs": [
    {
     "name": "stderr",
     "output_type": "stream",
     "text": [
      "C:\\Users\\user\\AppData\\Local\\Temp\\ipykernel_10348\\3090845383.py:3: DtypeWarning: Columns (11,20) have mixed types. Specify dtype option on import or set low_memory=False.\n",
      "  data = pd.read_csv(path + 'merged_orig_data.csv')\n"
     ]
    }
   ],
   "source": [
    "path = \"C:/Users/user/Desktop/K-Digital Project 002/K_Digital_02/kkh3363/분석 자료/개발자2/New_Data/\"\n",
    "\n",
    "data = pd.read_csv(path + 'merged_orig_data.csv')"
   ]
  },
  {
   "cell_type": "code",
   "execution_count": 46,
   "metadata": {},
   "outputs": [
    {
     "data": {
      "text/html": [
       "<div>\n",
       "<style scoped>\n",
       "    .dataframe tbody tr th:only-of-type {\n",
       "        vertical-align: middle;\n",
       "    }\n",
       "\n",
       "    .dataframe tbody tr th {\n",
       "        vertical-align: top;\n",
       "    }\n",
       "\n",
       "    .dataframe thead th {\n",
       "        text-align: right;\n",
       "    }\n",
       "</style>\n",
       "<table border=\"1\" class=\"dataframe\">\n",
       "  <thead>\n",
       "    <tr style=\"text-align: right;\">\n",
       "      <th></th>\n",
       "      <th>SEQ_NO</th>\n",
       "      <th>RANK_CO</th>\n",
       "      <th>INPT_DE</th>\n",
       "      <th>ISBN_THIRTEEN_NO</th>\n",
       "      <th>BOOK_TITLE_NM</th>\n",
       "      <th>AUTHR_NM</th>\n",
       "      <th>BOOK_INTRCN_CN</th>\n",
       "      <th>PUBLISHER_NM</th>\n",
       "      <th>PBLICTE_DE</th>\n",
       "      <th>BOOK_IMAGE_NM</th>\n",
       "      <th>...</th>\n",
       "      <th>AREA_NM</th>\n",
       "      <th>SEXDSTN_FLAG_NM</th>\n",
       "      <th>VLM_NM</th>\n",
       "      <th>ANALS_LON_TOT_CO</th>\n",
       "      <th>yes24_Sale</th>\n",
       "      <th>yes24_Score</th>\n",
       "      <th>yes24_Price</th>\n",
       "      <th>kyobo_Price</th>\n",
       "      <th>kyobo_Score</th>\n",
       "      <th>kyobo_Sale</th>\n",
       "    </tr>\n",
       "  </thead>\n",
       "  <tbody>\n",
       "    <tr>\n",
       "      <th>0</th>\n",
       "      <td>263404341</td>\n",
       "      <td>869</td>\n",
       "      <td>2021-03-16</td>\n",
       "      <td>9788972915782</td>\n",
       "      <td>군주론</td>\n",
       "      <td>저자: 니콜로 마키아벨리 ;김경희</td>\n",
       "      <td>마키아벨리 전공 학자가 번역에 참여한 &amp;lt;군주론&amp;gt;의 이탈리아어 원전 번역판...</td>\n",
       "      <td>까치</td>\n",
       "      <td>2015</td>\n",
       "      <td>http://image.aladin.co.kr/product/5320/66/cove...</td>\n",
       "      <td>...</td>\n",
       "      <td>NaN</td>\n",
       "      <td>남성</td>\n",
       "      <td>NaN</td>\n",
       "      <td>252200</td>\n",
       "      <td>7,110</td>\n",
       "      <td>9.3</td>\n",
       "      <td>9,000</td>\n",
       "      <td>9000</td>\n",
       "      <td>9.63</td>\n",
       "      <td>216</td>\n",
       "    </tr>\n",
       "    <tr>\n",
       "      <th>1</th>\n",
       "      <td>263260363</td>\n",
       "      <td>446</td>\n",
       "      <td>2021-03-16</td>\n",
       "      <td>9788972915782</td>\n",
       "      <td>군주론</td>\n",
       "      <td>저자: 니콜로 마키아벨리 ;김경희</td>\n",
       "      <td>마키아벨리 전공 학자가 번역에 참여한 &amp;lt;군주론&amp;gt;의 이탈리아어 원전 번역판...</td>\n",
       "      <td>까치</td>\n",
       "      <td>2015</td>\n",
       "      <td>http://image.aladin.co.kr/product/5320/66/cove...</td>\n",
       "      <td>...</td>\n",
       "      <td>NaN</td>\n",
       "      <td>남성</td>\n",
       "      <td>NaN</td>\n",
       "      <td>14983</td>\n",
       "      <td>7,110</td>\n",
       "      <td>9.3</td>\n",
       "      <td>9,000</td>\n",
       "      <td>9000</td>\n",
       "      <td>9.63</td>\n",
       "      <td>216</td>\n",
       "    </tr>\n",
       "    <tr>\n",
       "      <th>2</th>\n",
       "      <td>263323418</td>\n",
       "      <td>857</td>\n",
       "      <td>2021-03-16</td>\n",
       "      <td>9788972915782</td>\n",
       "      <td>군주론</td>\n",
       "      <td>저자: 니콜로 마키아벨리 ;김경희</td>\n",
       "      <td>마키아벨리 전공 학자가 번역에 참여한 &amp;lt;군주론&amp;gt;의 이탈리아어 원전 번역판...</td>\n",
       "      <td>까치</td>\n",
       "      <td>2015</td>\n",
       "      <td>http://image.aladin.co.kr/product/5320/66/cove...</td>\n",
       "      <td>...</td>\n",
       "      <td>NaN</td>\n",
       "      <td>남성</td>\n",
       "      <td>NaN</td>\n",
       "      <td>86373</td>\n",
       "      <td>7,110</td>\n",
       "      <td>9.3</td>\n",
       "      <td>9,000</td>\n",
       "      <td>9000</td>\n",
       "      <td>9.63</td>\n",
       "      <td>216</td>\n",
       "    </tr>\n",
       "  </tbody>\n",
       "</table>\n",
       "<p>3 rows × 28 columns</p>\n",
       "</div>"
      ],
      "text/plain": [
       "      SEQ_NO  RANK_CO     INPT_DE  ISBN_THIRTEEN_NO BOOK_TITLE_NM  \\\n",
       "0  263404341      869  2021-03-16     9788972915782          군주론    \n",
       "1  263260363      446  2021-03-16     9788972915782          군주론    \n",
       "2  263323418      857  2021-03-16     9788972915782          군주론    \n",
       "\n",
       "             AUTHR_NM                                     BOOK_INTRCN_CN  \\\n",
       "0  저자: 니콜로 마키아벨리 ;김경희  마키아벨리 전공 학자가 번역에 참여한 &lt;군주론&gt;의 이탈리아어 원전 번역판...   \n",
       "1  저자: 니콜로 마키아벨리 ;김경희  마키아벨리 전공 학자가 번역에 참여한 &lt;군주론&gt;의 이탈리아어 원전 번역판...   \n",
       "2  저자: 니콜로 마키아벨리 ;김경희  마키아벨리 전공 학자가 번역에 참여한 &lt;군주론&gt;의 이탈리아어 원전 번역판...   \n",
       "\n",
       "  PUBLISHER_NM PBLICTE_DE                                      BOOK_IMAGE_NM  \\\n",
       "0           까치       2015  http://image.aladin.co.kr/product/5320/66/cove...   \n",
       "1           까치       2015  http://image.aladin.co.kr/product/5320/66/cove...   \n",
       "2           까치       2015  http://image.aladin.co.kr/product/5320/66/cove...   \n",
       "\n",
       "   ...  AREA_NM SEXDSTN_FLAG_NM  VLM_NM ANALS_LON_TOT_CO yes24_Sale  \\\n",
       "0  ...      NaN              남성     NaN           252200      7,110   \n",
       "1  ...      NaN              남성     NaN            14983      7,110   \n",
       "2  ...      NaN              남성     NaN            86373      7,110   \n",
       "\n",
       "   yes24_Score yes24_Price kyobo_Price kyobo_Score kyobo_Sale  \n",
       "0          9.3       9,000        9000        9.63        216  \n",
       "1          9.3       9,000        9000        9.63        216  \n",
       "2          9.3       9,000        9000        9.63        216  \n",
       "\n",
       "[3 rows x 28 columns]"
      ]
     },
     "execution_count": 46,
     "metadata": {},
     "output_type": "execute_result"
    }
   ],
   "source": [
    "data.head(3)"
   ]
  },
  {
   "cell_type": "code",
   "execution_count": 47,
   "metadata": {},
   "outputs": [
    {
     "data": {
      "text/plain": [
       "727682"
      ]
     },
     "execution_count": 47,
     "metadata": {},
     "output_type": "execute_result"
    }
   ],
   "source": [
    "data['BOOK_IMAGE_NM'].duplicated().sum()"
   ]
  },
  {
   "cell_type": "code",
   "execution_count": 48,
   "metadata": {},
   "outputs": [
    {
     "name": "stdout",
     "output_type": "stream",
     "text": [
      "중복된 책을 삭제할 경우 : 756007 -> 28325\n"
     ]
    }
   ],
   "source": [
    "print(f\"중복된 책을 삭제할 경우 : {data.shape[0]} -> {data.shape[0] - data['BOOK_IMAGE_NM'].duplicated().sum()}\")"
   ]
  },
  {
   "cell_type": "code",
   "execution_count": 49,
   "metadata": {},
   "outputs": [],
   "source": [
    "copy_data = data.copy(deep = True)"
   ]
  },
  {
   "cell_type": "code",
   "execution_count": 50,
   "metadata": {},
   "outputs": [],
   "source": [
    "data = data.drop_duplicates(subset = ['BOOK_IMAGE_NM'])"
   ]
  },
  {
   "cell_type": "code",
   "execution_count": 51,
   "metadata": {},
   "outputs": [
    {
     "data": {
      "text/plain": [
       "0"
      ]
     },
     "execution_count": 51,
     "metadata": {},
     "output_type": "execute_result"
    }
   ],
   "source": [
    "data['BOOK_IMAGE_NM'].duplicated().sum()"
   ]
  },
  {
   "cell_type": "code",
   "execution_count": 53,
   "metadata": {},
   "outputs": [],
   "source": [
    "data = data.drop_duplicates(subset = ['BOOK_TITLE_NM'])"
   ]
  },
  {
   "cell_type": "code",
   "execution_count": 54,
   "metadata": {},
   "outputs": [
    {
     "data": {
      "text/plain": [
       "0"
      ]
     },
     "execution_count": 54,
     "metadata": {},
     "output_type": "execute_result"
    }
   ],
   "source": [
    "data['BOOK_TITLE_NM'].duplicated().sum()"
   ]
  },
  {
   "cell_type": "code",
   "execution_count": 56,
   "metadata": {},
   "outputs": [],
   "source": [
    "data.to_csv(path + 'merged_orig_data_drop_duplicates.csv' , index = False)"
   ]
  }
 ],
 "metadata": {
  "kernelspec": {
   "display_name": "SMBC_Project",
   "language": "python",
   "name": "python3"
  },
  "language_info": {
   "codemirror_mode": {
    "name": "ipython",
    "version": 3
   },
   "file_extension": ".py",
   "mimetype": "text/x-python",
   "name": "python",
   "nbconvert_exporter": "python",
   "pygments_lexer": "ipython3",
   "version": "3.11.5"
  }
 },
 "nbformat": 4,
 "nbformat_minor": 2
}
