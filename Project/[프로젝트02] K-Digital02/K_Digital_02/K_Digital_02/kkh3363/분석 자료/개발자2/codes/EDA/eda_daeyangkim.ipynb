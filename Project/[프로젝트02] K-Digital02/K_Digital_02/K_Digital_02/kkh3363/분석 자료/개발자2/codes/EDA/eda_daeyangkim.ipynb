{
 "cells": [
  {
   "cell_type": "code",
   "execution_count": 32,
   "metadata": {},
   "outputs": [],
   "source": [
    "import pandas as pd\n",
    "import numpy as np\n",
    "import matplotlib.pyplot as plt\n",
    "import seaborn as sns\n",
    "\n",
    "import warnings\n",
    "warnings.filterwarnings('ignore')"
   ]
  },
  {
   "cell_type": "code",
   "execution_count": 33,
   "metadata": {},
   "outputs": [],
   "source": [
    "data = pd.read_excel('merged_data.xlsx')"
   ]
  },
  {
   "cell_type": "code",
   "execution_count": 34,
   "metadata": {},
   "outputs": [
    {
     "data": {
      "text/html": [
       "<div>\n",
       "<style scoped>\n",
       "    .dataframe tbody tr th:only-of-type {\n",
       "        vertical-align: middle;\n",
       "    }\n",
       "\n",
       "    .dataframe tbody tr th {\n",
       "        vertical-align: top;\n",
       "    }\n",
       "\n",
       "    .dataframe thead th {\n",
       "        text-align: right;\n",
       "    }\n",
       "</style>\n",
       "<table border=\"1\" class=\"dataframe\">\n",
       "  <thead>\n",
       "    <tr style=\"text-align: right;\">\n",
       "      <th></th>\n",
       "      <th>일련번호</th>\n",
       "      <th>순위수</th>\n",
       "      <th>입력일자</th>\n",
       "      <th>ISBN13번호</th>\n",
       "      <th>서적제목명</th>\n",
       "      <th>저작자명</th>\n",
       "      <th>출판사명</th>\n",
       "      <th>발행일자</th>\n",
       "      <th>서적마스터일련번호</th>\n",
       "      <th>KDC명</th>\n",
       "      <th>...</th>\n",
       "      <th>분석기간코드명</th>\n",
       "      <th>분석유형코드</th>\n",
       "      <th>분석유형코드명</th>\n",
       "      <th>연령구분명</th>\n",
       "      <th>지역명</th>\n",
       "      <th>성별구분명</th>\n",
       "      <th>권명</th>\n",
       "      <th>분석대출총수</th>\n",
       "      <th>판매량</th>\n",
       "      <th>별점</th>\n",
       "    </tr>\n",
       "  </thead>\n",
       "  <tbody>\n",
       "    <tr>\n",
       "      <th>0</th>\n",
       "      <td>309418784</td>\n",
       "      <td>285</td>\n",
       "      <td>2021-12-15</td>\n",
       "      <td>9791197522901</td>\n",
       "      <td>당신의 수익은 우연입니다 :제보자 X가 말하는 주식시장의 속살</td>\n",
       "      <td>지은이: 이오하</td>\n",
       "      <td>영화나무</td>\n",
       "      <td>2021</td>\n",
       "      <td>6049990</td>\n",
       "      <td>327.856</td>\n",
       "      <td>...</td>\n",
       "      <td>90일</td>\n",
       "      <td>5</td>\n",
       "      <td>연령 및 성별</td>\n",
       "      <td>50대</td>\n",
       "      <td>NaN</td>\n",
       "      <td>남성</td>\n",
       "      <td>NaN</td>\n",
       "      <td>723129</td>\n",
       "      <td>1050</td>\n",
       "      <td>9.2</td>\n",
       "    </tr>\n",
       "    <tr>\n",
       "      <th>1</th>\n",
       "      <td>309260376</td>\n",
       "      <td>479</td>\n",
       "      <td>2021-12-15</td>\n",
       "      <td>9791197522901</td>\n",
       "      <td>당신의 수익은 우연입니다 :제보자 X가 말하는 주식시장의 속살</td>\n",
       "      <td>지은이: 이오하</td>\n",
       "      <td>영화나무</td>\n",
       "      <td>2021</td>\n",
       "      <td>6049990</td>\n",
       "      <td>327.856</td>\n",
       "      <td>...</td>\n",
       "      <td>7일</td>\n",
       "      <td>3</td>\n",
       "      <td>지역별</td>\n",
       "      <td>NaN</td>\n",
       "      <td>제주</td>\n",
       "      <td>NaN</td>\n",
       "      <td>NaN</td>\n",
       "      <td>29058</td>\n",
       "      <td>1050</td>\n",
       "      <td>9.2</td>\n",
       "    </tr>\n",
       "    <tr>\n",
       "      <th>2</th>\n",
       "      <td>309274859</td>\n",
       "      <td>251</td>\n",
       "      <td>2021-12-15</td>\n",
       "      <td>9791197522901</td>\n",
       "      <td>당신의 수익은 우연입니다 :제보자 X가 말하는 주식시장의 속살</td>\n",
       "      <td>지은이: 이오하</td>\n",
       "      <td>영화나무</td>\n",
       "      <td>2021</td>\n",
       "      <td>6049990</td>\n",
       "      <td>327.856</td>\n",
       "      <td>...</td>\n",
       "      <td>7일</td>\n",
       "      <td>4</td>\n",
       "      <td>연령 및 성별</td>\n",
       "      <td>50대</td>\n",
       "      <td>NaN</td>\n",
       "      <td>남성</td>\n",
       "      <td>NaN</td>\n",
       "      <td>55829</td>\n",
       "      <td>1050</td>\n",
       "      <td>9.2</td>\n",
       "    </tr>\n",
       "  </tbody>\n",
       "</table>\n",
       "<p>3 rows × 24 columns</p>\n",
       "</div>"
      ],
      "text/plain": [
       "        일련번호  순위수       입력일자       ISBN13번호  \\\n",
       "0  309418784  285 2021-12-15  9791197522901   \n",
       "1  309260376  479 2021-12-15  9791197522901   \n",
       "2  309274859  251 2021-12-15  9791197522901   \n",
       "\n",
       "                                서적제목명      저작자명  출판사명  발행일자  서적마스터일련번호  \\\n",
       "0  당신의 수익은 우연입니다 :제보자 X가 말하는 주식시장의 속살  지은이: 이오하  영화나무  2021    6049990   \n",
       "1  당신의 수익은 우연입니다 :제보자 X가 말하는 주식시장의 속살  지은이: 이오하  영화나무  2021    6049990   \n",
       "2  당신의 수익은 우연입니다 :제보자 X가 말하는 주식시장의 속살  지은이: 이오하  영화나무  2021    6049990   \n",
       "\n",
       "      KDC명  ... 분석기간코드명 분석유형코드  분석유형코드명 연령구분명  지역명  성별구분명   권명  분석대출총수   판매량  \\\n",
       "0  327.856  ...     90일      5  연령 및 성별   50대  NaN     남성  NaN  723129  1050   \n",
       "1  327.856  ...      7일      3      지역별   NaN   제주    NaN  NaN   29058  1050   \n",
       "2  327.856  ...      7일      4  연령 및 성별   50대  NaN     남성  NaN   55829  1050   \n",
       "\n",
       "    별점  \n",
       "0  9.2  \n",
       "1  9.2  \n",
       "2  9.2  \n",
       "\n",
       "[3 rows x 24 columns]"
      ]
     },
     "execution_count": 34,
     "metadata": {},
     "output_type": "execute_result"
    }
   ],
   "source": [
    "data.head(3)"
   ]
  },
  {
   "cell_type": "code",
   "execution_count": 35,
   "metadata": {},
   "outputs": [
    {
     "data": {
      "text/html": [
       "<div>\n",
       "<style scoped>\n",
       "    .dataframe tbody tr th:only-of-type {\n",
       "        vertical-align: middle;\n",
       "    }\n",
       "\n",
       "    .dataframe tbody tr th {\n",
       "        vertical-align: top;\n",
       "    }\n",
       "\n",
       "    .dataframe thead th {\n",
       "        text-align: right;\n",
       "    }\n",
       "</style>\n",
       "<table border=\"1\" class=\"dataframe\">\n",
       "  <thead>\n",
       "    <tr style=\"text-align: right;\">\n",
       "      <th></th>\n",
       "      <th>판매량</th>\n",
       "      <th>별점</th>\n",
       "    </tr>\n",
       "  </thead>\n",
       "  <tbody>\n",
       "    <tr>\n",
       "      <th>count</th>\n",
       "      <td>154064.000000</td>\n",
       "      <td>154064.000000</td>\n",
       "    </tr>\n",
       "    <tr>\n",
       "      <th>mean</th>\n",
       "      <td>11208.749377</td>\n",
       "      <td>9.090588</td>\n",
       "    </tr>\n",
       "    <tr>\n",
       "      <th>std</th>\n",
       "      <td>32015.850311</td>\n",
       "      <td>1.874860</td>\n",
       "    </tr>\n",
       "    <tr>\n",
       "      <th>min</th>\n",
       "      <td>0.000000</td>\n",
       "      <td>0.000000</td>\n",
       "    </tr>\n",
       "    <tr>\n",
       "      <th>25%</th>\n",
       "      <td>264.000000</td>\n",
       "      <td>9.200000</td>\n",
       "    </tr>\n",
       "    <tr>\n",
       "      <th>50%</th>\n",
       "      <td>2076.000000</td>\n",
       "      <td>9.600000</td>\n",
       "    </tr>\n",
       "    <tr>\n",
       "      <th>75%</th>\n",
       "      <td>7269.000000</td>\n",
       "      <td>9.700000</td>\n",
       "    </tr>\n",
       "    <tr>\n",
       "      <th>max</th>\n",
       "      <td>410166.000000</td>\n",
       "      <td>10.000000</td>\n",
       "    </tr>\n",
       "  </tbody>\n",
       "</table>\n",
       "</div>"
      ],
      "text/plain": [
       "                 판매량             별점\n",
       "count  154064.000000  154064.000000\n",
       "mean    11208.749377       9.090588\n",
       "std     32015.850311       1.874860\n",
       "min         0.000000       0.000000\n",
       "25%       264.000000       9.200000\n",
       "50%      2076.000000       9.600000\n",
       "75%      7269.000000       9.700000\n",
       "max    410166.000000      10.000000"
      ]
     },
     "execution_count": 35,
     "metadata": {},
     "output_type": "execute_result"
    }
   ],
   "source": [
    "cols = ['판매량' , '별점']\n",
    "\n",
    "d = data[cols]\n",
    "\n",
    "d.describe()"
   ]
  },
  {
   "cell_type": "code",
   "execution_count": 36,
   "metadata": {},
   "outputs": [],
   "source": [
    "d = d.replace({0 : np.NaN})"
   ]
  },
  {
   "cell_type": "code",
   "execution_count": 37,
   "metadata": {},
   "outputs": [
    {
     "name": "stdout",
     "output_type": "stream",
     "text": [
      "Before Drop Missing value : 154064 \n",
      "After Drop Missing value : 130135\n"
     ]
    }
   ],
   "source": [
    "print(f\"Before Drop Missing value : {d.shape[0]} \\nAfter Drop Missing value : {d.dropna().shape[0]}\")"
   ]
  },
  {
   "cell_type": "code",
   "execution_count": 41,
   "metadata": {},
   "outputs": [],
   "source": [
    "drop_data = d.dropna()"
   ]
  },
  {
   "cell_type": "code",
   "execution_count": 42,
   "metadata": {},
   "outputs": [
    {
     "data": {
      "text/html": [
       "<div>\n",
       "<style scoped>\n",
       "    .dataframe tbody tr th:only-of-type {\n",
       "        vertical-align: middle;\n",
       "    }\n",
       "\n",
       "    .dataframe tbody tr th {\n",
       "        vertical-align: top;\n",
       "    }\n",
       "\n",
       "    .dataframe thead th {\n",
       "        text-align: right;\n",
       "    }\n",
       "</style>\n",
       "<table border=\"1\" class=\"dataframe\">\n",
       "  <thead>\n",
       "    <tr style=\"text-align: right;\">\n",
       "      <th></th>\n",
       "      <th>판매량</th>\n",
       "      <th>별점</th>\n",
       "    </tr>\n",
       "  </thead>\n",
       "  <tbody>\n",
       "    <tr>\n",
       "      <th>count</th>\n",
       "      <td>130135.000000</td>\n",
       "      <td>130135.000000</td>\n",
       "    </tr>\n",
       "    <tr>\n",
       "      <th>mean</th>\n",
       "      <td>13269.042441</td>\n",
       "      <td>9.474552</td>\n",
       "    </tr>\n",
       "    <tr>\n",
       "      <th>std</th>\n",
       "      <td>34440.729107</td>\n",
       "      <td>0.420767</td>\n",
       "    </tr>\n",
       "    <tr>\n",
       "      <th>min</th>\n",
       "      <td>12.000000</td>\n",
       "      <td>2.000000</td>\n",
       "    </tr>\n",
       "    <tr>\n",
       "      <th>25%</th>\n",
       "      <td>912.000000</td>\n",
       "      <td>9.300000</td>\n",
       "    </tr>\n",
       "    <tr>\n",
       "      <th>50%</th>\n",
       "      <td>3150.000000</td>\n",
       "      <td>9.600000</td>\n",
       "    </tr>\n",
       "    <tr>\n",
       "      <th>75%</th>\n",
       "      <td>9762.000000</td>\n",
       "      <td>9.800000</td>\n",
       "    </tr>\n",
       "    <tr>\n",
       "      <th>max</th>\n",
       "      <td>410166.000000</td>\n",
       "      <td>10.000000</td>\n",
       "    </tr>\n",
       "  </tbody>\n",
       "</table>\n",
       "</div>"
      ],
      "text/plain": [
       "                 판매량             별점\n",
       "count  130135.000000  130135.000000\n",
       "mean    13269.042441       9.474552\n",
       "std     34440.729107       0.420767\n",
       "min        12.000000       2.000000\n",
       "25%       912.000000       9.300000\n",
       "50%      3150.000000       9.600000\n",
       "75%      9762.000000       9.800000\n",
       "max    410166.000000      10.000000"
      ]
     },
     "execution_count": 42,
     "metadata": {},
     "output_type": "execute_result"
    }
   ],
   "source": [
    "drop_data.describe()"
   ]
  },
  {
   "cell_type": "code",
   "execution_count": 43,
   "metadata": {},
   "outputs": [
    {
     "data": {
      "text/plain": [
       "<Axes: xlabel='판매량'>"
      ]
     },
     "execution_count": 43,
     "metadata": {},
     "output_type": "execute_result"
    },
    {
     "data": {
      "image/png": "[encoded data removed]",
      "text/plain": [
       "<Figure size 640x480 with 1 Axes>"
      ]
     },
     "metadata": {},
     "output_type": "display_data"
    }
   ],
   "source": [
    "sns.boxplot(\n",
    "    data = drop_data ,\n",
    "    x = '판매량'\n",
    ")"
   ]
  },
  {
   "cell_type": "code",
   "execution_count": 44,
   "metadata": {},
   "outputs": [
    {
     "data": {
      "text/plain": [
       "<Axes: xlabel='별점'>"
      ]
     },
     "execution_count": 44,
     "metadata": {},
     "output_type": "execute_result"
    },
    {
     "data": {
      "image/png": "[encoded data removed]",
      "text/plain": [
       "<Figure size 640x480 with 1 Axes>"
      ]
     },
     "metadata": {},
     "output_type": "display_data"
    }
   ],
   "source": [
    "sns.boxplot(\n",
    "    data = drop_data,\n",
    "    x = '별점'\n",
    ")"
   ]
  },
  {
   "cell_type": "code",
   "execution_count": 51,
   "metadata": {},
   "outputs": [],
   "source": [
    "def outlier_detection(data , col):\n",
    "    q1 = np.percentile(data[col] , 25)\n",
    "    q3 = np.percentile(data[col] , 75)\n",
    "    IQR = q3 - q1\n",
    "    \n",
    "    upper_fence = q3 + 1.5 * IQR\n",
    "    lower_fence = q1 - 1.5 * IQR\n",
    "\n",
    "    return data[(data[col] < lower_fence) | (data[col] > upper_fence)]"
   ]
  },
  {
   "cell_type": "code",
   "execution_count": 56,
   "metadata": {},
   "outputs": [
    {
     "name": "stdout",
     "output_type": "stream",
     "text": [
      "판매량 이상치 비율 : 14.46%\n",
      "별점 이상치 비율 : 6.59%\n"
     ]
    }
   ],
   "source": [
    "# 이상치\n",
    "\n",
    "sale_outlier = outlier_detection(data , '판매량')\n",
    "print(f\"판매량 이상치 비율 : {round(len(sale_outlier) / len(data) * 100 , 2)}%\")\n",
    "score_outlier = outlier_detection(data , '별점')\n",
    "print(f\"별점 이상치 비율 : {round(len(score_outlier) / len(data) * 100 , 2)}%\")"
   ]
  },
  {
   "cell_type": "code",
   "execution_count": 59,
   "metadata": {},
   "outputs": [
    {
     "data": {
      "text/html": [
       "<div>\n",
       "<style scoped>\n",
       "    .dataframe tbody tr th:only-of-type {\n",
       "        vertical-align: middle;\n",
       "    }\n",
       "\n",
       "    .dataframe tbody tr th {\n",
       "        vertical-align: top;\n",
       "    }\n",
       "\n",
       "    .dataframe thead th {\n",
       "        text-align: right;\n",
       "    }\n",
       "</style>\n",
       "<table border=\"1\" class=\"dataframe\">\n",
       "  <thead>\n",
       "    <tr style=\"text-align: right;\">\n",
       "      <th></th>\n",
       "      <th>순위수</th>\n",
       "      <th>발행일자</th>\n",
       "      <th>KDC 대분류</th>\n",
       "      <th>대출수</th>\n",
       "      <th>연령구분명</th>\n",
       "      <th>성별구분명</th>\n",
       "      <th>별점</th>\n",
       "    </tr>\n",
       "  </thead>\n",
       "  <tbody>\n",
       "    <tr>\n",
       "      <th>111</th>\n",
       "      <td>461</td>\n",
       "      <td>2021</td>\n",
       "      <td>100 (철학)</td>\n",
       "      <td>62</td>\n",
       "      <td>50대</td>\n",
       "      <td>남성</td>\n",
       "      <td>9.1</td>\n",
       "    </tr>\n",
       "    <tr>\n",
       "      <th>112</th>\n",
       "      <td>244</td>\n",
       "      <td>2021</td>\n",
       "      <td>100 (철학)</td>\n",
       "      <td>4</td>\n",
       "      <td>20대</td>\n",
       "      <td>남성</td>\n",
       "      <td>9.1</td>\n",
       "    </tr>\n",
       "    <tr>\n",
       "      <th>113</th>\n",
       "      <td>121</td>\n",
       "      <td>2021</td>\n",
       "      <td>100 (철학)</td>\n",
       "      <td>8</td>\n",
       "      <td>NaN</td>\n",
       "      <td>NaN</td>\n",
       "      <td>9.1</td>\n",
       "    </tr>\n",
       "    <tr>\n",
       "      <th>114</th>\n",
       "      <td>127</td>\n",
       "      <td>2021</td>\n",
       "      <td>100 (철학)</td>\n",
       "      <td>64</td>\n",
       "      <td>60대 이상</td>\n",
       "      <td>여성</td>\n",
       "      <td>9.1</td>\n",
       "    </tr>\n",
       "    <tr>\n",
       "      <th>115</th>\n",
       "      <td>667</td>\n",
       "      <td>2021</td>\n",
       "      <td>100 (철학)</td>\n",
       "      <td>47</td>\n",
       "      <td>60대 이상</td>\n",
       "      <td>남성</td>\n",
       "      <td>9.1</td>\n",
       "    </tr>\n",
       "    <tr>\n",
       "      <th>...</th>\n",
       "      <td>...</td>\n",
       "      <td>...</td>\n",
       "      <td>...</td>\n",
       "      <td>...</td>\n",
       "      <td>...</td>\n",
       "      <td>...</td>\n",
       "      <td>...</td>\n",
       "    </tr>\n",
       "    <tr>\n",
       "      <th>153978</th>\n",
       "      <td>895</td>\n",
       "      <td>1999</td>\n",
       "      <td>800 (문학)</td>\n",
       "      <td>17</td>\n",
       "      <td>청소년(14~19)</td>\n",
       "      <td>NaN</td>\n",
       "      <td>9.2</td>\n",
       "    </tr>\n",
       "    <tr>\n",
       "      <th>153979</th>\n",
       "      <td>621</td>\n",
       "      <td>1999</td>\n",
       "      <td>800 (문학)</td>\n",
       "      <td>13</td>\n",
       "      <td>청소년(14~19)</td>\n",
       "      <td>여성</td>\n",
       "      <td>9.2</td>\n",
       "    </tr>\n",
       "    <tr>\n",
       "      <th>153980</th>\n",
       "      <td>710</td>\n",
       "      <td>1999</td>\n",
       "      <td>800 (문학)</td>\n",
       "      <td>2</td>\n",
       "      <td>20대</td>\n",
       "      <td>남성</td>\n",
       "      <td>9.2</td>\n",
       "    </tr>\n",
       "    <tr>\n",
       "      <th>153981</th>\n",
       "      <td>452</td>\n",
       "      <td>1999</td>\n",
       "      <td>800 (문학)</td>\n",
       "      <td>2</td>\n",
       "      <td>청소년(14~19)</td>\n",
       "      <td>남성</td>\n",
       "      <td>9.2</td>\n",
       "    </tr>\n",
       "    <tr>\n",
       "      <th>153982</th>\n",
       "      <td>621</td>\n",
       "      <td>1999</td>\n",
       "      <td>800 (문학)</td>\n",
       "      <td>13</td>\n",
       "      <td>청소년(14~19)</td>\n",
       "      <td>여성</td>\n",
       "      <td>9.2</td>\n",
       "    </tr>\n",
       "  </tbody>\n",
       "</table>\n",
       "<p>22278 rows × 7 columns</p>\n",
       "</div>"
      ],
      "text/plain": [
       "        순위수  발행일자   KDC 대분류  대출수       연령구분명 성별구분명   별점\n",
       "111     461  2021  100 (철학)   62         50대    남성  9.1\n",
       "112     244  2021  100 (철학)    4         20대    남성  9.1\n",
       "113     121  2021  100 (철학)    8         NaN   NaN  9.1\n",
       "114     127  2021  100 (철학)   64      60대 이상    여성  9.1\n",
       "115     667  2021  100 (철학)   47      60대 이상    남성  9.1\n",
       "...     ...   ...       ...  ...         ...   ...  ...\n",
       "153978  895  1999  800 (문학)   17  청소년(14~19)   NaN  9.2\n",
       "153979  621  1999  800 (문학)   13  청소년(14~19)    여성  9.2\n",
       "153980  710  1999  800 (문학)    2         20대    남성  9.2\n",
       "153981  452  1999  800 (문학)    2  청소년(14~19)    남성  9.2\n",
       "153982  621  1999  800 (문학)   13  청소년(14~19)    여성  9.2\n",
       "\n",
       "[22278 rows x 7 columns]"
      ]
     },
     "execution_count": 59,
     "metadata": {},
     "output_type": "execute_result"
    }
   ],
   "source": [
    "cols = ['순위수' , '발행일자' , 'KDC 대분류' , '대출수' , '연령구분명' , '성별구분명' , '별점']\n",
    "\n",
    "sale_outlier[cols]"
   ]
  }
 ],
 "metadata": {
  "kernelspec": {
   "display_name": "SMBC_Project",
   "language": "python",
   "name": "python3"
  },
  "language_info": {
   "codemirror_mode": {
    "name": "ipython",
    "version": 3
   },
   "file_extension": ".py",
   "mimetype": "text/x-python",
   "name": "python",
   "nbconvert_exporter": "python",
   "pygments_lexer": "ipython3",
   "version": "3.11.5"
  }
 },
 "nbformat": 4,
 "nbformat_minor": 2
}
