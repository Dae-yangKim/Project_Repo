{
 "cells": [
  {
   "cell_type": "markdown",
   "metadata": {},
   "source": [
    "## 콘텐츠 기반 추천 시스템을 위한 데이터 분석"
   ]
  },
  {
   "cell_type": "code",
   "execution_count": 1,
   "metadata": {},
   "outputs": [],
   "source": [
    "# library import\n",
    "import pandas as pd\n",
    "import numpy as np\n",
    "import matplotlib.pyplot as plt\n",
    "import matplotlib.font_manager as fm\n",
    "import seaborn as sns\n",
    "\n",
    "import missingno as msno\n",
    "import warnings\n",
    "warnings.filterwarnings('ignore')\n",
    "\n",
    "import scipy.stats as stats\n",
    "\n",
    "from sklearn.model_selection import train_test_split , cross_val_score , StratifiedKFold\n",
    "from sklearn.preprocessing import LabelEncoder , RobustScaler\n",
    "from sklearn.ensemble import RandomForestClassifier\n",
    "from sklearn.metrics import classification_report\n",
    "\n",
    "\n",
    "# 폰트 설정\n",
    "\n",
    "font_path = 'C:/Windows/Fonts/MALGUNSL.TTF'\n",
    "font_name = fm.FontProperties(fname = font_path).get_name()\n",
    "plt.rc('font' , family = font_name)"
   ]
  },
  {
   "cell_type": "code",
   "execution_count": 2,
   "metadata": {},
   "outputs": [],
   "source": [
    "# data import\n",
    "\n",
    "path = \"C:/Users/user/Desktop/K-Digital Project 002/K_Digital_02/kkh3363/분석 자료/개발자2/New_Data/\"\n",
    "data = pd.read_csv(path + 'merged_orig_data_drop_duplicates.csv')\n",
    "orig_data = pd.read_csv(path + 'merged_orig_data_drop_duplicates.csv')\n",
    "metadata = pd.read_excel(path + \"인기대출_컬럼정의서.xls\")"
   ]
  },
  {
   "cell_type": "code",
   "execution_count": 3,
   "metadata": {},
   "outputs": [
    {
     "name": "stdout",
     "output_type": "stream",
     "text": [
      "<class 'pandas.core.frame.DataFrame'>\n",
      "RangeIndex: 25075 entries, 0 to 25074\n",
      "Data columns (total 28 columns):\n",
      " #   Column             Non-Null Count  Dtype  \n",
      "---  ------             --------------  -----  \n",
      " 0   SEQ_NO             25075 non-null  int64  \n",
      " 1   RANK_CO            25075 non-null  int64  \n",
      " 2   INPT_DE            25075 non-null  object \n",
      " 3   ISBN_THIRTEEN_NO   25075 non-null  int64  \n",
      " 4   BOOK_TITLE_NM      25075 non-null  object \n",
      " 5   AUTHR_NM           25049 non-null  object \n",
      " 6   BOOK_INTRCN_CN     23919 non-null  object \n",
      " 7   PUBLISHER_NM       25064 non-null  object \n",
      " 8   PBLICTE_DE         25073 non-null  object \n",
      " 9   BOOK_IMAGE_NM      25074 non-null  object \n",
      " 10  BOOK_MASTR_SEQ_NO  25075 non-null  int64  \n",
      " 11  KDC_NM             18675 non-null  float64\n",
      " 12  LON_CO             25075 non-null  int64  \n",
      " 13  ANALS_PD_CD        25075 non-null  object \n",
      " 14  ANALS_PD_CD_NM     25075 non-null  object \n",
      " 15  ANALS_TY_CD        25075 non-null  int64  \n",
      " 16  ANALS_TY_CD_NM     25075 non-null  object \n",
      " 17  AGE_FLAG_NM        15577 non-null  object \n",
      " 18  AREA_NM            9366 non-null   object \n",
      " 19  SEXDSTN_FLAG_NM    12585 non-null  object \n",
      " 20  VLM_NM             6337 non-null   object \n",
      " 21  ANALS_LON_TOT_CO   25075 non-null  int64  \n",
      " 22  yes24_Sale         19208 non-null  object \n",
      " 23  yes24_Score        21616 non-null  float64\n",
      " 24  yes24_Price        24575 non-null  object \n",
      " 25  kyobo_Price        25075 non-null  int64  \n",
      " 26  kyobo_Score        25075 non-null  float64\n",
      " 27  kyobo_Sale         25075 non-null  int64  \n",
      "dtypes: float64(3), int64(9), object(16)\n",
      "memory usage: 5.4+ MB\n"
     ]
    }
   ],
   "source": [
    "data.info()"
   ]
  },
  {
   "cell_type": "code",
   "execution_count": 4,
   "metadata": {},
   "outputs": [
    {
     "data": {
      "text/html": [
       "<div>\n",
       "<style scoped>\n",
       "    .dataframe tbody tr th:only-of-type {\n",
       "        vertical-align: middle;\n",
       "    }\n",
       "\n",
       "    .dataframe tbody tr th {\n",
       "        vertical-align: top;\n",
       "    }\n",
       "\n",
       "    .dataframe thead th {\n",
       "        text-align: right;\n",
       "    }\n",
       "</style>\n",
       "<table border=\"1\" class=\"dataframe\">\n",
       "  <thead>\n",
       "    <tr style=\"text-align: right;\">\n",
       "      <th></th>\n",
       "      <th>순서</th>\n",
       "      <th>컬럼영문명</th>\n",
       "      <th>컬럼한글명</th>\n",
       "      <th>데이터타입</th>\n",
       "      <th>길이</th>\n",
       "      <th>PK여부</th>\n",
       "      <th>NOT NULL여부</th>\n",
       "    </tr>\n",
       "  </thead>\n",
       "  <tbody>\n",
       "    <tr>\n",
       "      <th>0</th>\n",
       "      <td>1</td>\n",
       "      <td>SEQ_NO</td>\n",
       "      <td>일련번호</td>\n",
       "      <td>int</td>\n",
       "      <td>11.0</td>\n",
       "      <td>Y</td>\n",
       "      <td>Y</td>\n",
       "    </tr>\n",
       "    <tr>\n",
       "      <th>1</th>\n",
       "      <td>2</td>\n",
       "      <td>RANK_CO</td>\n",
       "      <td>순위수</td>\n",
       "      <td>int</td>\n",
       "      <td>1.0</td>\n",
       "      <td>N</td>\n",
       "      <td>N</td>\n",
       "    </tr>\n",
       "    <tr>\n",
       "      <th>2</th>\n",
       "      <td>3</td>\n",
       "      <td>INPT_DE</td>\n",
       "      <td>입력일자</td>\n",
       "      <td>varchar</td>\n",
       "      <td>10.0</td>\n",
       "      <td>N</td>\n",
       "      <td>N</td>\n",
       "    </tr>\n",
       "    <tr>\n",
       "      <th>3</th>\n",
       "      <td>4</td>\n",
       "      <td>ISBN_THIRTEEN_NO</td>\n",
       "      <td>ISBN13번호</td>\n",
       "      <td>varchar</td>\n",
       "      <td>13.0</td>\n",
       "      <td>N</td>\n",
       "      <td>N</td>\n",
       "    </tr>\n",
       "    <tr>\n",
       "      <th>4</th>\n",
       "      <td>5</td>\n",
       "      <td>BOOK_TITLE_NM</td>\n",
       "      <td>서적제목명</td>\n",
       "      <td>varchar</td>\n",
       "      <td>300.0</td>\n",
       "      <td>N</td>\n",
       "      <td>N</td>\n",
       "    </tr>\n",
       "    <tr>\n",
       "      <th>5</th>\n",
       "      <td>6</td>\n",
       "      <td>AUTHR_NM</td>\n",
       "      <td>저작자명</td>\n",
       "      <td>varchar</td>\n",
       "      <td>300.0</td>\n",
       "      <td>N</td>\n",
       "      <td>N</td>\n",
       "    </tr>\n",
       "    <tr>\n",
       "      <th>6</th>\n",
       "      <td>7</td>\n",
       "      <td>BOOK_INTRCN_CN</td>\n",
       "      <td>서적소개내용</td>\n",
       "      <td>text</td>\n",
       "      <td>NaN</td>\n",
       "      <td>N</td>\n",
       "      <td>N</td>\n",
       "    </tr>\n",
       "    <tr>\n",
       "      <th>7</th>\n",
       "      <td>8</td>\n",
       "      <td>PUBLISHER_NM</td>\n",
       "      <td>출판사명</td>\n",
       "      <td>varchar</td>\n",
       "      <td>100.0</td>\n",
       "      <td>N</td>\n",
       "      <td>N</td>\n",
       "    </tr>\n",
       "    <tr>\n",
       "      <th>8</th>\n",
       "      <td>9</td>\n",
       "      <td>PBLICTE_DE</td>\n",
       "      <td>발행일자</td>\n",
       "      <td>varchar</td>\n",
       "      <td>10.0</td>\n",
       "      <td>N</td>\n",
       "      <td>N</td>\n",
       "    </tr>\n",
       "    <tr>\n",
       "      <th>9</th>\n",
       "      <td>10</td>\n",
       "      <td>BOOK_IMAGE_NM</td>\n",
       "      <td>서적이미지명</td>\n",
       "      <td>varchar</td>\n",
       "      <td>500.0</td>\n",
       "      <td>N</td>\n",
       "      <td>N</td>\n",
       "    </tr>\n",
       "    <tr>\n",
       "      <th>10</th>\n",
       "      <td>11</td>\n",
       "      <td>BOOK_MASTR_SEQ_NO</td>\n",
       "      <td>서적마스터일련번호</td>\n",
       "      <td>varchar</td>\n",
       "      <td>20.0</td>\n",
       "      <td>N</td>\n",
       "      <td>N</td>\n",
       "    </tr>\n",
       "    <tr>\n",
       "      <th>11</th>\n",
       "      <td>12</td>\n",
       "      <td>KDC_NM</td>\n",
       "      <td>KDC명</td>\n",
       "      <td>varchar</td>\n",
       "      <td>50.0</td>\n",
       "      <td>N</td>\n",
       "      <td>N</td>\n",
       "    </tr>\n",
       "    <tr>\n",
       "      <th>12</th>\n",
       "      <td>13</td>\n",
       "      <td>LON_CO</td>\n",
       "      <td>대출수</td>\n",
       "      <td>int</td>\n",
       "      <td>1.0</td>\n",
       "      <td>N</td>\n",
       "      <td>N</td>\n",
       "    </tr>\n",
       "    <tr>\n",
       "      <th>13</th>\n",
       "      <td>14</td>\n",
       "      <td>ANALS_PD_CD</td>\n",
       "      <td>분석기간코드</td>\n",
       "      <td>varchar</td>\n",
       "      <td>10.0</td>\n",
       "      <td>N</td>\n",
       "      <td>N</td>\n",
       "    </tr>\n",
       "    <tr>\n",
       "      <th>14</th>\n",
       "      <td>15</td>\n",
       "      <td>ANALS_PD_CD_NM</td>\n",
       "      <td>분석기간코드명</td>\n",
       "      <td>varchar</td>\n",
       "      <td>10.0</td>\n",
       "      <td>N</td>\n",
       "      <td>N</td>\n",
       "    </tr>\n",
       "    <tr>\n",
       "      <th>15</th>\n",
       "      <td>16</td>\n",
       "      <td>ANALS_TY_CD</td>\n",
       "      <td>분석유형코드</td>\n",
       "      <td>varchar</td>\n",
       "      <td>10.0</td>\n",
       "      <td>N</td>\n",
       "      <td>N</td>\n",
       "    </tr>\n",
       "    <tr>\n",
       "      <th>16</th>\n",
       "      <td>17</td>\n",
       "      <td>ANALS_TY_CD_NM</td>\n",
       "      <td>분석유형코드명</td>\n",
       "      <td>varchar</td>\n",
       "      <td>10.0</td>\n",
       "      <td>N</td>\n",
       "      <td>N</td>\n",
       "    </tr>\n",
       "    <tr>\n",
       "      <th>17</th>\n",
       "      <td>18</td>\n",
       "      <td>AGE_FLAG_NM</td>\n",
       "      <td>연령구분명</td>\n",
       "      <td>varchar</td>\n",
       "      <td>10.0</td>\n",
       "      <td>N</td>\n",
       "      <td>N</td>\n",
       "    </tr>\n",
       "    <tr>\n",
       "      <th>18</th>\n",
       "      <td>19</td>\n",
       "      <td>AREA_NM</td>\n",
       "      <td>지역명</td>\n",
       "      <td>varchar</td>\n",
       "      <td>10.0</td>\n",
       "      <td>N</td>\n",
       "      <td>N</td>\n",
       "    </tr>\n",
       "    <tr>\n",
       "      <th>19</th>\n",
       "      <td>20</td>\n",
       "      <td>SEXDSTN_FLAG_NM</td>\n",
       "      <td>성별구분명</td>\n",
       "      <td>varchar</td>\n",
       "      <td>10.0</td>\n",
       "      <td>N</td>\n",
       "      <td>N</td>\n",
       "    </tr>\n",
       "    <tr>\n",
       "      <th>20</th>\n",
       "      <td>21</td>\n",
       "      <td>VLM_NM</td>\n",
       "      <td>권명</td>\n",
       "      <td>varchar</td>\n",
       "      <td>100.0</td>\n",
       "      <td>N</td>\n",
       "      <td>N</td>\n",
       "    </tr>\n",
       "    <tr>\n",
       "      <th>21</th>\n",
       "      <td>22</td>\n",
       "      <td>ANALS_LON_TOT_CO</td>\n",
       "      <td>분석대출총수</td>\n",
       "      <td>int</td>\n",
       "      <td>1.0</td>\n",
       "      <td>N</td>\n",
       "      <td>N</td>\n",
       "    </tr>\n",
       "  </tbody>\n",
       "</table>\n",
       "</div>"
      ],
      "text/plain": [
       "    순서              컬럼영문명      컬럼한글명    데이터타입     길이 PK여부 NOT NULL여부\n",
       "0    1             SEQ_NO       일련번호      int   11.0    Y          Y\n",
       "1    2            RANK_CO        순위수      int    1.0    N          N\n",
       "2    3            INPT_DE       입력일자  varchar   10.0    N          N\n",
       "3    4   ISBN_THIRTEEN_NO   ISBN13번호  varchar   13.0    N          N\n",
       "4    5      BOOK_TITLE_NM      서적제목명  varchar  300.0    N          N\n",
       "5    6           AUTHR_NM       저작자명  varchar  300.0    N          N\n",
       "6    7     BOOK_INTRCN_CN     서적소개내용     text    NaN    N          N\n",
       "7    8       PUBLISHER_NM       출판사명  varchar  100.0    N          N\n",
       "8    9         PBLICTE_DE       발행일자  varchar   10.0    N          N\n",
       "9   10      BOOK_IMAGE_NM     서적이미지명  varchar  500.0    N          N\n",
       "10  11  BOOK_MASTR_SEQ_NO  서적마스터일련번호  varchar   20.0    N          N\n",
       "11  12             KDC_NM       KDC명  varchar   50.0    N          N\n",
       "12  13             LON_CO        대출수      int    1.0    N          N\n",
       "13  14        ANALS_PD_CD     분석기간코드  varchar   10.0    N          N\n",
       "14  15     ANALS_PD_CD_NM    분석기간코드명  varchar   10.0    N          N\n",
       "15  16        ANALS_TY_CD     분석유형코드  varchar   10.0    N          N\n",
       "16  17     ANALS_TY_CD_NM    분석유형코드명  varchar   10.0    N          N\n",
       "17  18        AGE_FLAG_NM      연령구분명  varchar   10.0    N          N\n",
       "18  19            AREA_NM        지역명  varchar   10.0    N          N\n",
       "19  20    SEXDSTN_FLAG_NM      성별구분명  varchar   10.0    N          N\n",
       "20  21             VLM_NM         권명  varchar  100.0    N          N\n",
       "21  22   ANALS_LON_TOT_CO     분석대출총수      int    1.0    N          N"
      ]
     },
     "execution_count": 4,
     "metadata": {},
     "output_type": "execute_result"
    }
   ],
   "source": [
    "metadata"
   ]
  },
  {
   "cell_type": "markdown",
   "metadata": {},
   "source": [
    "### 원천 데이터 중에서 적은 건수의 데이터 판별"
   ]
  },
  {
   "cell_type": "code",
   "execution_count": 5,
   "metadata": {},
   "outputs": [
    {
     "data": {
      "text/html": [
       "<div>\n",
       "<style scoped>\n",
       "    .dataframe tbody tr th:only-of-type {\n",
       "        vertical-align: middle;\n",
       "    }\n",
       "\n",
       "    .dataframe tbody tr th {\n",
       "        vertical-align: top;\n",
       "    }\n",
       "\n",
       "    .dataframe thead th {\n",
       "        text-align: right;\n",
       "    }\n",
       "</style>\n",
       "<table border=\"1\" class=\"dataframe\">\n",
       "  <thead>\n",
       "    <tr style=\"text-align: right;\">\n",
       "      <th></th>\n",
       "      <th>LON_CO</th>\n",
       "    </tr>\n",
       "  </thead>\n",
       "  <tbody>\n",
       "    <tr>\n",
       "      <th>count</th>\n",
       "      <td>25075.000000</td>\n",
       "    </tr>\n",
       "    <tr>\n",
       "      <th>mean</th>\n",
       "      <td>18.315454</td>\n",
       "    </tr>\n",
       "    <tr>\n",
       "      <th>std</th>\n",
       "      <td>67.577758</td>\n",
       "    </tr>\n",
       "    <tr>\n",
       "      <th>min</th>\n",
       "      <td>1.000000</td>\n",
       "    </tr>\n",
       "    <tr>\n",
       "      <th>25%</th>\n",
       "      <td>2.000000</td>\n",
       "    </tr>\n",
       "    <tr>\n",
       "      <th>50%</th>\n",
       "      <td>4.000000</td>\n",
       "    </tr>\n",
       "    <tr>\n",
       "      <th>75%</th>\n",
       "      <td>12.000000</td>\n",
       "    </tr>\n",
       "    <tr>\n",
       "      <th>max</th>\n",
       "      <td>1142.000000</td>\n",
       "    </tr>\n",
       "  </tbody>\n",
       "</table>\n",
       "</div>"
      ],
      "text/plain": [
       "             LON_CO\n",
       "count  25075.000000\n",
       "mean      18.315454\n",
       "std       67.577758\n",
       "min        1.000000\n",
       "25%        2.000000\n",
       "50%        4.000000\n",
       "75%       12.000000\n",
       "max     1142.000000"
      ]
     },
     "execution_count": 5,
     "metadata": {},
     "output_type": "execute_result"
    },
    {
     "data": {
      "image/png": "[encoded data removed]",
      "text/plain": [
       "<Figure size 640x480 with 1 Axes>"
      ]
     },
     "metadata": {},
     "output_type": "display_data"
    }
   ],
   "source": [
    "check = data[['LON_CO']]\n",
    "\n",
    "sns.boxplot(\n",
    "    data = check ,\n",
    "    x = 'LON_CO'\n",
    ")\n",
    "\n",
    "check.describe()"
   ]
  },
  {
   "cell_type": "code",
   "execution_count": 6,
   "metadata": {},
   "outputs": [
    {
     "name": "stdout",
     "output_type": "stream",
     "text": [
      "비율 : 45.68%\n",
      "3이하를 분리할 경우 : 25075 -> 13621\n"
     ]
    }
   ],
   "source": [
    "# 3 이하를 배제\n",
    "\n",
    "print(f\"비율 : {round(len(data[data['LON_CO'] <= 3]) / len(data) * 100 , 2)}%\")\n",
    "print(f\"3이하를 분리할 경우 : {len(data)} -> {len(data) - len(data[data['LON_CO'] <= 3])}\")\n",
    "data = data[data['LON_CO'] > 3]"
   ]
  },
  {
   "cell_type": "code",
   "execution_count": 7,
   "metadata": {},
   "outputs": [
    {
     "data": {
      "text/html": [
       "<div>\n",
       "<style scoped>\n",
       "    .dataframe tbody tr th:only-of-type {\n",
       "        vertical-align: middle;\n",
       "    }\n",
       "\n",
       "    .dataframe tbody tr th {\n",
       "        vertical-align: top;\n",
       "    }\n",
       "\n",
       "    .dataframe thead th {\n",
       "        text-align: right;\n",
       "    }\n",
       "</style>\n",
       "<table border=\"1\" class=\"dataframe\">\n",
       "  <thead>\n",
       "    <tr style=\"text-align: right;\">\n",
       "      <th></th>\n",
       "      <th>SEQ_NO</th>\n",
       "      <th>RANK_CO</th>\n",
       "      <th>INPT_DE</th>\n",
       "      <th>ISBN_THIRTEEN_NO</th>\n",
       "      <th>BOOK_TITLE_NM</th>\n",
       "      <th>AUTHR_NM</th>\n",
       "      <th>BOOK_INTRCN_CN</th>\n",
       "      <th>PUBLISHER_NM</th>\n",
       "      <th>PBLICTE_DE</th>\n",
       "      <th>BOOK_IMAGE_NM</th>\n",
       "    </tr>\n",
       "  </thead>\n",
       "  <tbody>\n",
       "    <tr>\n",
       "      <th>0</th>\n",
       "      <td>263404341</td>\n",
       "      <td>869</td>\n",
       "      <td>2021-03-16</td>\n",
       "      <td>9788972915782</td>\n",
       "      <td>군주론</td>\n",
       "      <td>저자: 니콜로 마키아벨리 ;김경희</td>\n",
       "      <td>마키아벨리 전공 학자가 번역에 참여한 &amp;lt;군주론&amp;gt;의 이탈리아어 원전 번역판...</td>\n",
       "      <td>까치</td>\n",
       "      <td>2015</td>\n",
       "      <td>http://image.aladin.co.kr/product/5320/66/cove...</td>\n",
       "    </tr>\n",
       "    <tr>\n",
       "      <th>1</th>\n",
       "      <td>263404342</td>\n",
       "      <td>869</td>\n",
       "      <td>2021-03-16</td>\n",
       "      <td>9788979198188</td>\n",
       "      <td>동급생 :히가시노 게이고 장편소설</td>\n",
       "      <td>히가시노 게이고 [지음] ;신경립 옮김</td>\n",
       "      <td>, 의 작가 히가시노 게이고의 본격 학원 미스터리. 치밀하고 시니컬한 성격의 야구부...</td>\n",
       "      <td>창해</td>\n",
       "      <td>2008</td>\n",
       "      <td>http://image.aladin.co.kr/product/254/51/cover...</td>\n",
       "    </tr>\n",
       "    <tr>\n",
       "      <th>2</th>\n",
       "      <td>263404343</td>\n",
       "      <td>869</td>\n",
       "      <td>2021-03-16</td>\n",
       "      <td>9788983718686</td>\n",
       "      <td>백년 목 :100년 가는 목 만드는 단 하나의 방법</td>\n",
       "      <td>지은이: 정선근</td>\n",
       "      <td>목과 허리 디스크가 발생하는 원인, 목과 허리 디스크 손상으로 발생하는 방사통과 연...</td>\n",
       "      <td>사이언스북스</td>\n",
       "      <td>2017</td>\n",
       "      <td>https://image.aladin.co.kr/product/12388/98/co...</td>\n",
       "    </tr>\n",
       "  </tbody>\n",
       "</table>\n",
       "</div>"
      ],
      "text/plain": [
       "      SEQ_NO  RANK_CO     INPT_DE  ISBN_THIRTEEN_NO  \\\n",
       "0  263404341      869  2021-03-16     9788972915782   \n",
       "1  263404342      869  2021-03-16     9788979198188   \n",
       "2  263404343      869  2021-03-16     9788983718686   \n",
       "\n",
       "                   BOOK_TITLE_NM               AUTHR_NM  \\\n",
       "0                           군주론      저자: 니콜로 마키아벨리 ;김경희   \n",
       "1            동급생 :히가시노 게이고 장편소설   히가시노 게이고 [지음] ;신경립 옮김   \n",
       "2  백년 목 :100년 가는 목 만드는 단 하나의 방법                지은이: 정선근   \n",
       "\n",
       "                                      BOOK_INTRCN_CN PUBLISHER_NM PBLICTE_DE  \\\n",
       "0  마키아벨리 전공 학자가 번역에 참여한 &lt;군주론&gt;의 이탈리아어 원전 번역판...           까치       2015   \n",
       "1  , 의 작가 히가시노 게이고의 본격 학원 미스터리. 치밀하고 시니컬한 성격의 야구부...           창해       2008   \n",
       "2  목과 허리 디스크가 발생하는 원인, 목과 허리 디스크 손상으로 발생하는 방사통과 연...       사이언스북스       2017   \n",
       "\n",
       "                                       BOOK_IMAGE_NM  \n",
       "0  http://image.aladin.co.kr/product/5320/66/cove...  \n",
       "1  http://image.aladin.co.kr/product/254/51/cover...  \n",
       "2  https://image.aladin.co.kr/product/12388/98/co...  "
      ]
     },
     "execution_count": 7,
     "metadata": {},
     "output_type": "execute_result"
    }
   ],
   "source": [
    "# feature selection\n",
    "\n",
    "\"\"\"\n",
    "RANK_CO , INPT_DE , PBLICTE_DE , KDC_NM , LON_CO , AGE_FLAG_NM , SEXDSTN_FLAG_NM\n",
    "\"\"\"\n",
    "data.iloc[:3 , 0:10]"
   ]
  },
  {
   "cell_type": "code",
   "execution_count": 8,
   "metadata": {},
   "outputs": [
    {
     "data": {
      "text/html": [
       "<div>\n",
       "<style scoped>\n",
       "    .dataframe tbody tr th:only-of-type {\n",
       "        vertical-align: middle;\n",
       "    }\n",
       "\n",
       "    .dataframe tbody tr th {\n",
       "        vertical-align: top;\n",
       "    }\n",
       "\n",
       "    .dataframe thead th {\n",
       "        text-align: right;\n",
       "    }\n",
       "</style>\n",
       "<table border=\"1\" class=\"dataframe\">\n",
       "  <thead>\n",
       "    <tr style=\"text-align: right;\">\n",
       "      <th></th>\n",
       "      <th>BOOK_MASTR_SEQ_NO</th>\n",
       "      <th>KDC_NM</th>\n",
       "      <th>LON_CO</th>\n",
       "      <th>ANALS_PD_CD</th>\n",
       "      <th>ANALS_PD_CD_NM</th>\n",
       "      <th>ANALS_TY_CD</th>\n",
       "      <th>ANALS_TY_CD_NM</th>\n",
       "      <th>AGE_FLAG_NM</th>\n",
       "      <th>AREA_NM</th>\n",
       "      <th>SEXDSTN_FLAG_NM</th>\n",
       "    </tr>\n",
       "  </thead>\n",
       "  <tbody>\n",
       "    <tr>\n",
       "      <th>0</th>\n",
       "      <td>2814215</td>\n",
       "      <td>340.265</td>\n",
       "      <td>21</td>\n",
       "      <td>p3</td>\n",
       "      <td>90일</td>\n",
       "      <td>5</td>\n",
       "      <td>연령 및 성별</td>\n",
       "      <td>20대</td>\n",
       "      <td>NaN</td>\n",
       "      <td>남성</td>\n",
       "    </tr>\n",
       "    <tr>\n",
       "      <th>1</th>\n",
       "      <td>2237483</td>\n",
       "      <td>833.600</td>\n",
       "      <td>21</td>\n",
       "      <td>p3</td>\n",
       "      <td>90일</td>\n",
       "      <td>5</td>\n",
       "      <td>연령 및 성별</td>\n",
       "      <td>20대</td>\n",
       "      <td>NaN</td>\n",
       "      <td>남성</td>\n",
       "    </tr>\n",
       "    <tr>\n",
       "      <th>2</th>\n",
       "      <td>3664629</td>\n",
       "      <td>514.321</td>\n",
       "      <td>21</td>\n",
       "      <td>p3</td>\n",
       "      <td>90일</td>\n",
       "      <td>5</td>\n",
       "      <td>연령 및 성별</td>\n",
       "      <td>20대</td>\n",
       "      <td>NaN</td>\n",
       "      <td>남성</td>\n",
       "    </tr>\n",
       "  </tbody>\n",
       "</table>\n",
       "</div>"
      ],
      "text/plain": [
       "   BOOK_MASTR_SEQ_NO   KDC_NM  LON_CO ANALS_PD_CD ANALS_PD_CD_NM  ANALS_TY_CD  \\\n",
       "0            2814215  340.265      21          p3            90일            5   \n",
       "1            2237483  833.600      21          p3            90일            5   \n",
       "2            3664629  514.321      21          p3            90일            5   \n",
       "\n",
       "  ANALS_TY_CD_NM AGE_FLAG_NM AREA_NM SEXDSTN_FLAG_NM  \n",
       "0        연령 및 성별         20대     NaN              남성  \n",
       "1        연령 및 성별         20대     NaN              남성  \n",
       "2        연령 및 성별         20대     NaN              남성  "
      ]
     },
     "execution_count": 8,
     "metadata": {},
     "output_type": "execute_result"
    }
   ],
   "source": [
    "data.iloc[:3 , 10:20]"
   ]
  },
  {
   "cell_type": "code",
   "execution_count": 9,
   "metadata": {},
   "outputs": [
    {
     "data": {
      "text/html": [
       "<div>\n",
       "<style scoped>\n",
       "    .dataframe tbody tr th:only-of-type {\n",
       "        vertical-align: middle;\n",
       "    }\n",
       "\n",
       "    .dataframe tbody tr th {\n",
       "        vertical-align: top;\n",
       "    }\n",
       "\n",
       "    .dataframe thead th {\n",
       "        text-align: right;\n",
       "    }\n",
       "</style>\n",
       "<table border=\"1\" class=\"dataframe\">\n",
       "  <thead>\n",
       "    <tr style=\"text-align: right;\">\n",
       "      <th></th>\n",
       "      <th>VLM_NM</th>\n",
       "      <th>ANALS_LON_TOT_CO</th>\n",
       "      <th>yes24_Sale</th>\n",
       "      <th>yes24_Score</th>\n",
       "      <th>yes24_Price</th>\n",
       "      <th>kyobo_Price</th>\n",
       "      <th>kyobo_Score</th>\n",
       "      <th>kyobo_Sale</th>\n",
       "    </tr>\n",
       "  </thead>\n",
       "  <tbody>\n",
       "    <tr>\n",
       "      <th>0</th>\n",
       "      <td>NaN</td>\n",
       "      <td>252200</td>\n",
       "      <td>7,110</td>\n",
       "      <td>9.3</td>\n",
       "      <td>9,000</td>\n",
       "      <td>9000</td>\n",
       "      <td>9.63</td>\n",
       "      <td>216</td>\n",
       "    </tr>\n",
       "    <tr>\n",
       "      <th>1</th>\n",
       "      <td>NaN</td>\n",
       "      <td>252200</td>\n",
       "      <td>NaN</td>\n",
       "      <td>8.0</td>\n",
       "      <td>11,700</td>\n",
       "      <td>-1</td>\n",
       "      <td>8.59</td>\n",
       "      <td>47</td>\n",
       "    </tr>\n",
       "    <tr>\n",
       "      <th>2</th>\n",
       "      <td>NaN</td>\n",
       "      <td>252200</td>\n",
       "      <td>834</td>\n",
       "      <td>9.3</td>\n",
       "      <td>15,750</td>\n",
       "      <td>-1</td>\n",
       "      <td>8.59</td>\n",
       "      <td>47</td>\n",
       "    </tr>\n",
       "  </tbody>\n",
       "</table>\n",
       "</div>"
      ],
      "text/plain": [
       "  VLM_NM  ANALS_LON_TOT_CO yes24_Sale  yes24_Score yes24_Price  kyobo_Price  \\\n",
       "0    NaN            252200      7,110          9.3       9,000         9000   \n",
       "1    NaN            252200        NaN          8.0      11,700           -1   \n",
       "2    NaN            252200        834          9.3      15,750           -1   \n",
       "\n",
       "   kyobo_Score  kyobo_Sale  \n",
       "0         9.63         216  \n",
       "1         8.59          47  \n",
       "2         8.59          47  "
      ]
     },
     "execution_count": 9,
     "metadata": {},
     "output_type": "execute_result"
    }
   ],
   "source": [
    "data.iloc[:3 , 20:30]"
   ]
  },
  {
   "cell_type": "code",
   "execution_count": 10,
   "metadata": {},
   "outputs": [
    {
     "data": {
      "text/html": [
       "<div>\n",
       "<style scoped>\n",
       "    .dataframe tbody tr th:only-of-type {\n",
       "        vertical-align: middle;\n",
       "    }\n",
       "\n",
       "    .dataframe tbody tr th {\n",
       "        vertical-align: top;\n",
       "    }\n",
       "\n",
       "    .dataframe thead th {\n",
       "        text-align: right;\n",
       "    }\n",
       "</style>\n",
       "<table border=\"1\" class=\"dataframe\">\n",
       "  <thead>\n",
       "    <tr style=\"text-align: right;\">\n",
       "      <th></th>\n",
       "      <th>RANK_CO</th>\n",
       "      <th>INPT_DE</th>\n",
       "      <th>ISBN_THIRTEEN_NO</th>\n",
       "      <th>PBLICTE_DE</th>\n",
       "      <th>KDC_NM</th>\n",
       "      <th>LON_CO</th>\n",
       "      <th>AGE_FLAG_NM</th>\n",
       "      <th>SEXDSTN_FLAG_NM</th>\n",
       "      <th>yes24_Sale</th>\n",
       "      <th>yes24_Score</th>\n",
       "      <th>yes24_Price</th>\n",
       "      <th>kyobo_Sale</th>\n",
       "      <th>kyobo_Score</th>\n",
       "      <th>kyobo_Price</th>\n",
       "    </tr>\n",
       "  </thead>\n",
       "  <tbody>\n",
       "    <tr>\n",
       "      <th>0</th>\n",
       "      <td>869</td>\n",
       "      <td>2021-03-16</td>\n",
       "      <td>9788972915782</td>\n",
       "      <td>2015</td>\n",
       "      <td>340.265</td>\n",
       "      <td>21</td>\n",
       "      <td>20대</td>\n",
       "      <td>남성</td>\n",
       "      <td>7,110</td>\n",
       "      <td>9.3</td>\n",
       "      <td>9,000</td>\n",
       "      <td>216</td>\n",
       "      <td>9.63</td>\n",
       "      <td>9000</td>\n",
       "    </tr>\n",
       "    <tr>\n",
       "      <th>1</th>\n",
       "      <td>869</td>\n",
       "      <td>2021-03-16</td>\n",
       "      <td>9788979198188</td>\n",
       "      <td>2008</td>\n",
       "      <td>833.600</td>\n",
       "      <td>21</td>\n",
       "      <td>20대</td>\n",
       "      <td>남성</td>\n",
       "      <td>NaN</td>\n",
       "      <td>8.0</td>\n",
       "      <td>11,700</td>\n",
       "      <td>47</td>\n",
       "      <td>8.59</td>\n",
       "      <td>-1</td>\n",
       "    </tr>\n",
       "    <tr>\n",
       "      <th>2</th>\n",
       "      <td>869</td>\n",
       "      <td>2021-03-16</td>\n",
       "      <td>9788983718686</td>\n",
       "      <td>2017</td>\n",
       "      <td>514.321</td>\n",
       "      <td>21</td>\n",
       "      <td>20대</td>\n",
       "      <td>남성</td>\n",
       "      <td>834</td>\n",
       "      <td>9.3</td>\n",
       "      <td>15,750</td>\n",
       "      <td>47</td>\n",
       "      <td>8.59</td>\n",
       "      <td>-1</td>\n",
       "    </tr>\n",
       "  </tbody>\n",
       "</table>\n",
       "</div>"
      ],
      "text/plain": [
       "   RANK_CO     INPT_DE  ISBN_THIRTEEN_NO PBLICTE_DE   KDC_NM  LON_CO  \\\n",
       "0      869  2021-03-16     9788972915782       2015  340.265      21   \n",
       "1      869  2021-03-16     9788979198188       2008  833.600      21   \n",
       "2      869  2021-03-16     9788983718686       2017  514.321      21   \n",
       "\n",
       "  AGE_FLAG_NM SEXDSTN_FLAG_NM yes24_Sale  yes24_Score yes24_Price  kyobo_Sale  \\\n",
       "0         20대              남성      7,110          9.3       9,000         216   \n",
       "1         20대              남성        NaN          8.0      11,700          47   \n",
       "2         20대              남성        834          9.3      15,750          47   \n",
       "\n",
       "   kyobo_Score  kyobo_Price  \n",
       "0         9.63         9000  \n",
       "1         8.59           -1  \n",
       "2         8.59           -1  "
      ]
     },
     "execution_count": 10,
     "metadata": {},
     "output_type": "execute_result"
    }
   ],
   "source": [
    "as_data = data[['RANK_CO' , 'INPT_DE' , 'ISBN_THIRTEEN_NO' , 'PBLICTE_DE' , 'KDC_NM' , 'LON_CO' , 'AGE_FLAG_NM' , 'SEXDSTN_FLAG_NM' , 'yes24_Sale' , 'yes24_Score' ,\n",
    "                'yes24_Price' , 'kyobo_Sale' , 'kyobo_Score' , 'kyobo_Price']]\n",
    "as_data.head(3)"
   ]
  },
  {
   "cell_type": "code",
   "execution_count": 11,
   "metadata": {},
   "outputs": [],
   "source": [
    "category = []\n",
    "for kdc in as_data['KDC_NM']:\n",
    "    try:\n",
    "        if 0 <= float(kdc) < 100:\n",
    "            category.append('총류')\n",
    "        elif 100 <= float(kdc) < 200:\n",
    "            category.append('철학')\n",
    "        elif 200 <= float(kdc) < 300:\n",
    "            category.append('종교')\n",
    "        elif 300 <= float(kdc) < 400:\n",
    "            category.append('사회과학')\n",
    "        elif 400 <= float(kdc) < 500:\n",
    "            category.append('자연과학')\n",
    "        elif 500 <= float(kdc) < 600:\n",
    "            category.append('기술과학')\n",
    "        elif 600 <= float(kdc) < 700:\n",
    "            category.append('예술')\n",
    "        elif 700 <= float(kdc) < 800:\n",
    "            category.append('언어')\n",
    "        elif 800 <= float(kdc) < 900:\n",
    "            category.append('문학')\n",
    "        elif 900 <= float(kdc) < 1000:\n",
    "            category.append('역사')\n",
    "        else:\n",
    "            category.append(np.NaN)\n",
    "    except:\n",
    "        category.append(np.NaN)"
   ]
  },
  {
   "cell_type": "code",
   "execution_count": 12,
   "metadata": {},
   "outputs": [],
   "source": [
    "as_data['KDC_Category'] = category"
   ]
  },
  {
   "cell_type": "markdown",
   "metadata": {},
   "source": [
    "### 이상치 , 결측치"
   ]
  },
  {
   "cell_type": "code",
   "execution_count": 13,
   "metadata": {},
   "outputs": [],
   "source": [
    "as_data['month'] = as_data['INPT_DE'].str.split('-').str[1]"
   ]
  },
  {
   "cell_type": "code",
   "execution_count": 14,
   "metadata": {},
   "outputs": [
    {
     "name": "stdout",
     "output_type": "stream",
     "text": [
      "Data size : 13621\n",
      "RANK_CO Missing Percentage : 0.0%\n",
      "INPT_DE Missing Percentage : 0.0%\n",
      "ISBN_THIRTEEN_NO Missing Percentage : 0.0%\n",
      "PBLICTE_DE Missing Percentage : 0.0%\n",
      "KDC_NM Missing Percentage : 18.75%\n",
      "LON_CO Missing Percentage : 0.0%\n",
      "AGE_FLAG_NM Missing Percentage : 26.3%\n",
      "SEXDSTN_FLAG_NM Missing Percentage : 47.58%\n",
      "yes24_Sale Missing Percentage : 16.25%\n",
      "yes24_Score Missing Percentage : 5.68%\n",
      "yes24_Price Missing Percentage : 1.5%\n",
      "kyobo_Sale Missing Percentage : 0.0%\n",
      "kyobo_Score Missing Percentage : 0.0%\n",
      "kyobo_Price Missing Percentage : 0.0%\n",
      "KDC_Category Missing Percentage : 18.75%\n",
      "month Missing Percentage : 0.0%\n"
     ]
    },
    {
     "data": {
      "image/png": "[encoded data removed]",
      "text/plain": [
       "<Figure size 2500x1000 with 3 Axes>"
      ]
     },
     "metadata": {},
     "output_type": "display_data"
    }
   ],
   "source": [
    "msno.bar(as_data)\n",
    "plt.title(\"Missing value\" , fontsize = 20)\n",
    "print(f\"Data size : {as_data.shape[0]}\")\n",
    "\n",
    "# 결측치 비율 계산\n",
    "for feature in as_data:\n",
    "    print(f\"{feature} Missing Percentage : {round(as_data[feature].isna().sum() / as_data.shape[0] * 100 , 2)}%\")"
   ]
  },
  {
   "cell_type": "code",
   "execution_count": 15,
   "metadata": {},
   "outputs": [],
   "source": [
    "# yes24 결측치 처리\n",
    "\n",
    "as_data['yes24_Sale'] = as_data['yes24_Sale'].str.replace(',' , '')\n",
    "as_data['yes24_Sale'] = as_data['yes24_Sale'].fillna(-1).astype('int').replace({-1 : np.NaN})\n",
    "\n",
    "as_data['yes24_Price'] = as_data['yes24_Price'].str.replace(',' , '')\n",
    "as_data['yes24_Price'] = as_data['yes24_Price'].fillna(-1).astype('int').replace({-1 : np.NaN})"
   ]
  },
  {
   "cell_type": "code",
   "execution_count": 16,
   "metadata": {},
   "outputs": [],
   "source": [
    "# 중앙값으로 변경\n",
    "\n",
    "as_data['yes24_Sale'] = as_data['yes24_Sale'].fillna(as_data['yes24_Sale'].median())\n",
    "as_data['yes24_Score'] = as_data['yes24_Score'].fillna(as_data['yes24_Score'].median())\n",
    "as_data['yes24_Price'] = as_data['yes24_Price'].fillna(as_data['yes24_Price'].median())"
   ]
  },
  {
   "cell_type": "code",
   "execution_count": 17,
   "metadata": {},
   "outputs": [],
   "source": [
    "# 카테고리의 na를 제거\n",
    "\n",
    "as_data.dropna(subset = ['KDC_NM' , 'KDC_Category'] , inplace = True)"
   ]
  },
  {
   "cell_type": "code",
   "execution_count": 18,
   "metadata": {},
   "outputs": [
    {
     "name": "stdout",
     "output_type": "stream",
     "text": [
      "PBLICTE_DE\n",
      "2020          2180\n",
      "2019          1369\n",
      "2021          1312\n",
      "2018           998\n",
      "2017           834\n",
      "              ... \n",
      "2020[실은 20       1\n",
      "1982, c197       1\n",
      "2011-2016        1\n",
      "0001             1\n",
      "2001-2004        1\n",
      "Name: count, Length: 122, dtype: int64\n"
     ]
    }
   ],
   "source": [
    "check = as_data['PBLICTE_DE'].value_counts().sort_values(ascending = False)\n",
    "print(check)\n",
    "as_data['PBLICTE_DE'] = as_data['PBLICTE_DE'].fillna('2020')"
   ]
  },
  {
   "cell_type": "code",
   "execution_count": 19,
   "metadata": {},
   "outputs": [],
   "source": [
    "# 나이와 성별 데이터 결측값 처리\n",
    "\n",
    "cols = ['AGE_FLAG_NM' , 'SEXDSTN_FLAG_NM'] # 해당 컬럼 처리 필요\n",
    "\n",
    "as_data.drop(['INPT_DE'] , axis = 1 , inplace = True) # 연도 컬럼은 제거"
   ]
  },
  {
   "cell_type": "code",
   "execution_count": 20,
   "metadata": {},
   "outputs": [],
   "source": [
    "as_data['AGE_FLAG_NM'] = as_data['AGE_FLAG_NM'].str.split('(').str[0]"
   ]
  },
  {
   "cell_type": "code",
   "execution_count": 21,
   "metadata": {},
   "outputs": [],
   "source": [
    "# 범주화 작업\n",
    "\n",
    "mapp = {\n",
    "    '영유아': 1,\n",
    "    '유아': 1,\n",
    "    '초등': 2,\n",
    "    '청소년': 3,\n",
    "    '20대': 4,\n",
    "    '30대': 5,\n",
    "    '40대': 6,\n",
    "    '50대': 7,\n",
    "    '60대이상': 8\n",
    "}\n",
    "\n",
    "as_data['AGE_FLAG_NM'] = as_data['AGE_FLAG_NM'].map(mapp)"
   ]
  },
  {
   "cell_type": "code",
   "execution_count": 22,
   "metadata": {},
   "outputs": [
    {
     "name": "stdout",
     "output_type": "stream",
     "text": [
      "삭제 전 후 : 11067 -> 5198\n"
     ]
    }
   ],
   "source": [
    "# 만약 그냥 삭제할 경우\n",
    "\n",
    "test = as_data.copy()\n",
    "print(f\"삭제 전 후 : {test.shape[0]} -> {test.dropna().shape[0]}\")"
   ]
  },
  {
   "cell_type": "code",
   "execution_count": 23,
   "metadata": {},
   "outputs": [],
   "source": [
    "mapp = {\n",
    "    '남성' : 0 ,\n",
    "    '여성' : 1\n",
    "}\n",
    "\n",
    "as_data['SEXDSTN_FLAG_NM'] = as_data['SEXDSTN_FLAG_NM'].map(mapp)"
   ]
  },
  {
   "cell_type": "code",
   "execution_count": 24,
   "metadata": {},
   "outputs": [],
   "source": [
    "# 모델 기반 결측치 처리\n",
    "\n",
    "cols = ['AGE_FLAG_NM' , 'SEXDSTN_FLAG_NM']\n",
    "train_copy = as_data.copy(deep = True)\n",
    "target_data = train_copy[cols]\n",
    "train_copy.drop(cols , axis = 1 , inplace = True)\n",
    "\n",
    "train_copy.drop(['PBLICTE_DE'] , axis = 1 , inplace = True)\n",
    "train_copy = train_copy.astype({\n",
    "    'KDC_NM' : 'float' ,\n",
    "    'month' : 'int'\n",
    "})\n",
    "\n",
    "encoder = LabelEncoder()\n",
    "train_copy['KDC_Category'] = encoder.fit_transform(train_copy['KDC_Category'])\n",
    "\n",
    "# 스케일링\n",
    "\n",
    "scaler = RobustScaler()\n",
    "train_copy = scaler.fit_transform(train_copy)\n",
    "train_copy = pd.DataFrame(train_copy , index = as_data.index , columns = as_data.drop(['AGE_FLAG_NM' , 'SEXDSTN_FLAG_NM' , 'PBLICTE_DE'] , axis = 1).columns)"
   ]
  },
  {
   "cell_type": "code",
   "execution_count": 25,
   "metadata": {},
   "outputs": [],
   "source": [
    "# 나이 데이터 결측값 처리\n",
    "\n",
    "temp = pd.concat([train_copy , target_data['AGE_FLAG_NM']] , axis = 1)\n",
    "\n",
    "# 학습데이터 , 검증데이터 , 테스트 데이터 분리\n",
    "train = temp[~(temp['AGE_FLAG_NM'].isna())]\n",
    "test = temp[(temp['AGE_FLAG_NM'].isna())]\n",
    "\n",
    "target = train['AGE_FLAG_NM'] # 학습용 종속변수\n",
    "train.drop(['AGE_FLAG_NM'] , axis = 1 , inplace = True) # 학습용 독립변수\n",
    "\n",
    "prediction_result = test['AGE_FLAG_NM'] # 예측한 값을 여기에 넣는다\n",
    "test.drop(['AGE_FLAG_NM'] , axis = 1 , inplace = True) # 테스트 데이터\n",
    "\n",
    "# 데이터 분리\n",
    "trainX , validX , trainY , validY = train_test_split(train , target , test_size = 0.2 , random_state = 42)"
   ]
  },
  {
   "cell_type": "code",
   "execution_count": 26,
   "metadata": {},
   "outputs": [
    {
     "name": "stdout",
     "output_type": "stream",
     "text": [
      "R2 Score \n",
      "1.0\n",
      "0.6746647847565279\n"
     ]
    }
   ],
   "source": [
    "# 모델 설정 및 모델 학습\n",
    "\n",
    "model = RandomForestClassifier()\n",
    "\n",
    "model.fit(trainX , trainY)\n",
    "\n",
    "# 결정계수 출력\n",
    "\n",
    "print(f\"R2 Score \\n{model.score(trainX , trainY)}\\n{model.score(validX , validY)}\")"
   ]
  },
  {
   "cell_type": "code",
   "execution_count": 27,
   "metadata": {},
   "outputs": [
    {
     "name": "stdout",
     "output_type": "stream",
     "text": [
      "              precision    recall  f1-score   support\n",
      "\n",
      "         1.0       0.70      0.89      0.78       379\n",
      "         2.0       0.82      0.50      0.62        82\n",
      "         3.0       0.63      0.48      0.54       198\n",
      "         4.0       0.67      0.72      0.69       335\n",
      "         5.0       0.73      0.12      0.21        64\n",
      "         6.0       0.71      0.56      0.63        48\n",
      "         7.0       0.63      0.67      0.65       311\n",
      "\n",
      "    accuracy                           0.67      1417\n",
      "   macro avg       0.70      0.56      0.59      1417\n",
      "weighted avg       0.68      0.67      0.66      1417\n",
      "\n"
     ]
    }
   ],
   "source": [
    "# 예측 및 성능 측정\n",
    "\n",
    "prediction = model.predict(validX)\n",
    "\n",
    "print(classification_report(validY , prediction))"
   ]
  },
  {
   "cell_type": "code",
   "execution_count": 28,
   "metadata": {},
   "outputs": [],
   "source": [
    "# NA 예측\n",
    "\n",
    "prediction_result = model.predict(test)"
   ]
  },
  {
   "cell_type": "code",
   "execution_count": 29,
   "metadata": {},
   "outputs": [],
   "source": [
    "# 나이 NA 처리\n",
    "\n",
    "as_data.loc[as_data['AGE_FLAG_NM'].isna() , 'AGE_FLAG_NM'] = prediction_result"
   ]
  },
  {
   "cell_type": "code",
   "execution_count": 30,
   "metadata": {},
   "outputs": [],
   "source": [
    "# 성별 데이터 결측값 처리\n",
    "\n",
    "temp = pd.concat([train_copy , target_data['SEXDSTN_FLAG_NM']] , axis = 1)\n",
    "\n",
    "# 학습데이터 , 검증데이터 , 테스트 데이터 분리\n",
    "train = temp[~(temp['SEXDSTN_FLAG_NM'].isna())]\n",
    "test = temp[(temp['SEXDSTN_FLAG_NM'].isna())]\n",
    "\n",
    "target = train['SEXDSTN_FLAG_NM'] # 학습용 종속변수\n",
    "train.drop(['SEXDSTN_FLAG_NM'] , axis = 1 , inplace = True) # 학습용 독립변수\n",
    "\n",
    "prediction_result = test['SEXDSTN_FLAG_NM'] # 예측한 값을 여기에 넣는다\n",
    "test.drop(['SEXDSTN_FLAG_NM'] , axis = 1 , inplace = True) # 테스트 데이터\n",
    "\n",
    "# 데이터 분리\n",
    "trainX , validX , trainY , validY = train_test_split(train , target , test_size = 0.2 , random_state = 42)"
   ]
  },
  {
   "cell_type": "code",
   "execution_count": 31,
   "metadata": {},
   "outputs": [
    {
     "name": "stdout",
     "output_type": "stream",
     "text": [
      "R2 Score \n",
      "1.0\n",
      "0.8136942675159236\n"
     ]
    }
   ],
   "source": [
    "# 모델 설정 및 모델 학습\n",
    "\n",
    "model = RandomForestClassifier()\n",
    "\n",
    "model.fit(trainX , trainY)\n",
    "\n",
    "# 결정계수 출력\n",
    "\n",
    "print(f\"R2 Score \\n{model.score(trainX , trainY)}\\n{model.score(validX , validY)}\")"
   ]
  },
  {
   "cell_type": "code",
   "execution_count": 32,
   "metadata": {},
   "outputs": [
    {
     "name": "stdout",
     "output_type": "stream",
     "text": [
      "              precision    recall  f1-score   support\n",
      "\n",
      "         0.0       0.80      0.85      0.82       644\n",
      "         1.0       0.83      0.77      0.80       612\n",
      "\n",
      "    accuracy                           0.81      1256\n",
      "   macro avg       0.82      0.81      0.81      1256\n",
      "weighted avg       0.81      0.81      0.81      1256\n",
      "\n"
     ]
    }
   ],
   "source": [
    "# 예측 및 성능 측정\n",
    "\n",
    "prediction = model.predict(validX)\n",
    "\n",
    "print(classification_report(validY , prediction))"
   ]
  },
  {
   "cell_type": "code",
   "execution_count": 33,
   "metadata": {},
   "outputs": [],
   "source": [
    "# NA 예측\n",
    "\n",
    "prediction_result = model.predict(test)"
   ]
  },
  {
   "cell_type": "code",
   "execution_count": 34,
   "metadata": {},
   "outputs": [],
   "source": [
    "# 성별 NA 처리\n",
    "\n",
    "as_data.loc[as_data['SEXDSTN_FLAG_NM'].isna() , 'SEXDSTN_FLAG_NM'] = prediction_result"
   ]
  },
  {
   "cell_type": "code",
   "execution_count": 35,
   "metadata": {},
   "outputs": [
    {
     "name": "stdout",
     "output_type": "stream",
     "text": [
      "중복 데이터 삭제시 데이터 개수 변화 : 11067 -> 11067\n"
     ]
    }
   ],
   "source": [
    "# 중복 데이터 개수 확인\n",
    "\n",
    "print(f\"중복 데이터 삭제시 데이터 개수 변화 : {as_data.shape[0]} -> {as_data.shape[0] - as_data.duplicated().sum()}\")\n",
    "\n",
    "# 중복 데이터 삭제\n",
    "\n",
    "final_data = as_data.drop_duplicates()"
   ]
  },
  {
   "cell_type": "code",
   "execution_count": 36,
   "metadata": {},
   "outputs": [
    {
     "data": {
      "text/plain": [
       "(11067, 15)"
      ]
     },
     "execution_count": 36,
     "metadata": {},
     "output_type": "execute_result"
    }
   ],
   "source": [
    "final_data.shape"
   ]
  },
  {
   "cell_type": "code",
   "execution_count": 37,
   "metadata": {},
   "outputs": [],
   "source": [
    "final_data.to_csv(path + 'final_data_drop_duplicates.csv')"
   ]
  }
 ],
 "metadata": {
  "kernelspec": {
   "display_name": "SMBC_Project",
   "language": "python",
   "name": "python3"
  },
  "language_info": {
   "codemirror_mode": {
    "name": "ipython",
    "version": 3
   },
   "file_extension": ".py",
   "mimetype": "text/x-python",
   "name": "python",
   "nbconvert_exporter": "python",
   "pygments_lexer": "ipython3",
   "version": "3.11.5"
  }
 },
 "nbformat": 4,
 "nbformat_minor": 2
}
