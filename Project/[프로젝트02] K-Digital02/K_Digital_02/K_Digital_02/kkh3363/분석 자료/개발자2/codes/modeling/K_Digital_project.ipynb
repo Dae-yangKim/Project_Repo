{
  "cells": [
    {
      "cell_type": "code",
      "execution_count": 1,
      "metadata": {
        "id": "ZHhtRftzwDfn"
      },
      "outputs": [],
      "source": [
        "#Library\n",
        "import pandas as pd\n",
        "import warnings\n",
        "import numpy as np\n",
        "from scipy.sparse.linalg import svds\n",
        "from sklearn.model_selection import train_test_split\n",
        "import itertools\n",
        "import matplotlib as mpl\n",
        "import matplotlib.pyplot as plt\n",
        "from sklearn.metrics.pairwise import cosine_similarity as cs\n",
        "import seaborn as sns"
      ]
    },
    {
      "cell_type": "code",
      "execution_count": 2,
      "metadata": {
        "id": "oLRdo0WeFJa5"
      },
      "outputs": [],
      "source": [
        "path = \"C:/Users/user/Desktop/K-Digital Project 002/K_Digital_02/kkh3363/분석 자료/개발자2/New_Data/\"\n",
        "\n",
        "data = pd.read_csv(path + 'final_data_drop_duplicates.csv')"
      ]
    },
    {
      "cell_type": "code",
      "execution_count": 3,
      "metadata": {},
      "outputs": [],
      "source": [
        "copy_data = data.copy(deep = True)"
      ]
    },
    {
      "cell_type": "code",
      "execution_count": 4,
      "metadata": {
        "id": "mNLILHDkLC17"
      },
      "outputs": [],
      "source": [
        "isbn = data['ISBN_THIRTEEN_NO']\n",
        "\n",
        "copy_data.drop(['ISBN_THIRTEEN_NO' , 'PBLICTE_DE'] , axis = 1 , inplace = True)"
      ]
    },
    {
      "cell_type": "code",
      "execution_count": 5,
      "metadata": {
        "id": "MgZStyItFiD5"
      },
      "outputs": [],
      "source": [
        "from sklearn.preprocessing import RobustScaler\n",
        "\n",
        "scaler = RobustScaler()"
      ]
    },
    {
      "cell_type": "code",
      "execution_count": 6,
      "metadata": {
        "id": "rfaQ84YJF5fI"
      },
      "outputs": [],
      "source": [
        "cols = ['yes24_Sale' , 'yes24_Price' , 'kyobo_Sale' , 'kyobo_Price']\n",
        "scailing_data = copy_data[['yes24_Sale' , 'yes24_Price' , 'kyobo_Sale' , 'kyobo_Price']]\n",
        "\n",
        "idx = scailing_data.index\n",
        "columns = scailing_data.columns\n",
        "\n",
        "use_data = scaler.fit_transform(scailing_data)\n",
        "\n",
        "use_data = pd.DataFrame(use_data , index = idx , columns = columns)"
      ]
    },
    {
      "cell_type": "code",
      "execution_count": 7,
      "metadata": {
        "colab": {
          "base_uri": "https://localhost:8080/"
        },
        "id": "qJvw-dlZLw27",
        "outputId": "a742f583-c7a2-4b00-8f2f-68ed5bf91972"
      },
      "outputs": [],
      "source": [
        "copy_data[['yes24_Sale' , 'yes24_Price' , 'kyobo_Sale' , 'kyobo_Price']] = use_data"
      ]
    },
    {
      "cell_type": "code",
      "execution_count": 58,
      "metadata": {
        "id": "V0gkEU6DL0P6"
      },
      "outputs": [
        {
          "name": "stdout",
          "output_type": "stream",
          "text": [
            "31\n"
          ]
        }
      ],
      "source": [
        "from sklearn.metrics.pairwise import cosine_similarity\n",
        "\n",
        "# Test : 인덱스 0의 데이터를 기준으로 나머지 항목의 책들의 코사인 유사도 계산\n",
        "\n",
        "simi = {}\n",
        "select_num = int(input())\n",
        "\n",
        "for idx in range(len(copy_data)):\n",
        "    if idx == select_num:\n",
        "        print(idx)\n",
        "        continue\n",
        "    sim = cosine_similarity(copy_data.iloc[select_num].values.reshape(1 , -1) , copy_data.iloc[idx].values.reshape(1 , -1))\n",
        "    simi[data.iloc[idx]['ISBN_THIRTEEN_NO']] = sim[0][0]"
      ]
    },
    {
      "cell_type": "code",
      "execution_count": 59,
      "metadata": {},
      "outputs": [
        {
          "data": {
            "text/plain": [
              "9791197103209"
            ]
          },
          "execution_count": 59,
          "metadata": {},
          "output_type": "execute_result"
        }
      ],
      "source": [
        "\"\"\"9791197103209\"\"\"\n",
        "\n",
        "sorted(simi.items() , reverse = True , key = lambda x : x[1])[0][0]"
      ]
    },
    {
      "cell_type": "code",
      "execution_count": 48,
      "metadata": {},
      "outputs": [],
      "source": [
        "orig_data = pd.read_csv(path + 'merged_orig_data_drop_duplicates.csv')"
      ]
    },
    {
      "cell_type": "code",
      "execution_count": 52,
      "metadata": {},
      "outputs": [
        {
          "data": {
            "text/plain": [
              "33    https://image.aladin.co.kr/product/25416/17/co...\n",
              "Name: BOOK_IMAGE_NM, dtype: object"
            ]
          },
          "execution_count": 52,
          "metadata": {},
          "output_type": "execute_result"
        }
      ],
      "source": [
        "orig_data[orig_data['ISBN_THIRTEEN_NO'] == 9788937417801]['BOOK_IMAGE_NM']"
      ]
    },
    {
      "cell_type": "code",
      "execution_count": 53,
      "metadata": {},
      "outputs": [
        {
          "data": {
            "text/plain": [
              "3666    https://image.aladin.co.kr/product/24771/3/cov...\n",
              "Name: BOOK_IMAGE_NM, dtype: object"
            ]
          },
          "execution_count": 53,
          "metadata": {},
          "output_type": "execute_result"
        }
      ],
      "source": [
        "orig_data[orig_data['ISBN_THIRTEEN_NO'] == sorted(simi.items() , reverse = True , key = lambda x : x[1])[0][0]]['BOOK_IMAGE_NM']"
      ]
    },
    {
      "cell_type": "code",
      "execution_count": null,
      "metadata": {
        "id": "Zy_laUGSB926"
      },
      "outputs": [],
      "source": [
        "from sklearn.metrics.pairwise import cosine_similarity\n",
        "\n",
        "# 데이터 전처리\n",
        "raw_data = pd.read_csv(\"/content/drive/MyDrive/final_data.csv\")\n",
        "\n",
        "# 책을 유사하게 분류\n",
        "\n",
        "# 단어 기반 유사도\n",
        "book_similarity = cosine_similarity(raw_data[['KDC_NM', 'LON_CO', 'AGE_FLAG_NM', 'SEXDSTN_FLAG_NM']])\n",
        "\n",
        "# TF-IDF\n",
        "#book_similarity = tfidf_similarity(raw_data[['KDC_NM', 'LON_CO', 'AGE_FLAG_NM', 'SEXDSTN_FLAG_NM']])\n",
        "\n",
        "# LDA\n",
        "#book_similarity = lda_similarity(raw_data[['KDC_NM', 'LON_CO', 'AGE_FLAG_NM', 'SEXDSTN_FLAG_NM']])\n",
        "\n",
        "# 사용자의 취향을 기반으로 추천\n",
        "\n",
        "# 사용자의 평점이나 리뷰를 기반으로 추천\n",
        "user_ratings = raw_data[['Book_Index', 'yes24_Score', 'kyobo_Score']]\n",
        "user_ratings = user_ratings.groupby('Book_Index').mean()\n",
        "\n",
        "# 사용자의 관심 책 목록을 기반으로 추천\n",
        "user_interests = raw_data[['Book_Index']]\n",
        "user_interests = user_interests.groupby('Book_Index').size()\n",
        "\n",
        "# 추천\n",
        "\n",
        "# 유사도가 높은 책 추천\n",
        "recommended_books = []\n",
        "for book_index, rating in user_ratings.iteritems():\n",
        "    recommended_books.extend(book_similarity[book_index].argsort()[-10:])\n",
        "\n",
        "# 관심 책 목록에 포함된 책 추천\n",
        "recommended_books = []\n",
        "for book_index, count in user_interests.iteritems():\n",
        "    if count > 0:\n",
        "        recommended_books.append(book_index)\n"
      ]
    },
    {
      "cell_type": "code",
      "execution_count": null,
      "metadata": {
        "id": "J9jjAE-MByjk"
      },
      "outputs": [],
      "source": [
        "rating= df[[\"Book_Index\", \"RANK_CO\", \"KDC_NM\", \"LON_CO\", \"AGE_FLAG_NM\", \"SEXDSTN_FLAG_NM\", \"yes24_Sale\", \"yes24_Score\", \"yes24_Price\", \"kyobo_Sale\", \"kyobo_Score\", \"kyobo_Price\", \"KDC_Category\", \"month\"]]\n",
        "rating_matrix= rating.pivot_table(\"Rating\", index= \"ID\", columns= \"Name\").fillna(0)\n",
        "rating_matrix.head()"
      ]
    },
    {
      "cell_type": "code",
      "execution_count": null,
      "metadata": {
        "colab": {
          "base_uri": "https://localhost:8080/"
        },
        "id": "rtfkpMwVywvA",
        "outputId": "7b87d49d-212c-44d3-d9a5-53b7622afdbd"
      },
      "outputs": [
        {
          "data": {
            "text/plain": [
              "(461052, 15)"
            ]
          },
          "execution_count": 37,
          "metadata": {},
          "output_type": "execute_result"
        }
      ],
      "source": [
        "df.shape"
      ]
    },
    {
      "cell_type": "code",
      "execution_count": null,
      "metadata": {
        "colab": {
          "base_uri": "https://localhost:8080/",
          "height": 424
        },
        "id": "JU9XSK27zA5X",
        "outputId": "97b3dd59-f898-4f47-f7bb-600e8aee880e"
      },
      "outputs": [
        {
          "data": {
            "text/html": [
              "\n",
              "  <div id=\"df-d9dd532d-83d3-4d3f-955e-f257e4c3eb22\" class=\"colab-df-container\">\n",
              "    <div>\n",
              "<style scoped>\n",
              "    .dataframe tbody tr th:only-of-type {\n",
              "        vertical-align: middle;\n",
              "    }\n",
              "\n",
              "    .dataframe tbody tr th {\n",
              "        vertical-align: top;\n",
              "    }\n",
              "\n",
              "    .dataframe thead th {\n",
              "        text-align: right;\n",
              "    }\n",
              "</style>\n",
              "<table border=\"1\" class=\"dataframe\">\n",
              "  <thead>\n",
              "    <tr style=\"text-align: right;\">\n",
              "      <th></th>\n",
              "      <th>기술과학</th>\n",
              "      <th>문학</th>\n",
              "      <th>사회과학</th>\n",
              "      <th>언어</th>\n",
              "      <th>역사</th>\n",
              "      <th>예술</th>\n",
              "      <th>자연과학</th>\n",
              "      <th>종교</th>\n",
              "      <th>철학</th>\n",
              "      <th>총류</th>\n",
              "    </tr>\n",
              "  </thead>\n",
              "  <tbody>\n",
              "    <tr>\n",
              "      <th>0</th>\n",
              "      <td>0.0</td>\n",
              "      <td>0.0</td>\n",
              "      <td>1.0</td>\n",
              "      <td>0.0</td>\n",
              "      <td>0.0</td>\n",
              "      <td>0.0</td>\n",
              "      <td>0.0</td>\n",
              "      <td>0.0</td>\n",
              "      <td>0.0</td>\n",
              "      <td>0.0</td>\n",
              "    </tr>\n",
              "    <tr>\n",
              "      <th>1</th>\n",
              "      <td>0.0</td>\n",
              "      <td>0.0</td>\n",
              "      <td>1.0</td>\n",
              "      <td>0.0</td>\n",
              "      <td>0.0</td>\n",
              "      <td>0.0</td>\n",
              "      <td>0.0</td>\n",
              "      <td>0.0</td>\n",
              "      <td>0.0</td>\n",
              "      <td>0.0</td>\n",
              "    </tr>\n",
              "    <tr>\n",
              "      <th>2</th>\n",
              "      <td>0.0</td>\n",
              "      <td>0.0</td>\n",
              "      <td>1.0</td>\n",
              "      <td>0.0</td>\n",
              "      <td>0.0</td>\n",
              "      <td>0.0</td>\n",
              "      <td>0.0</td>\n",
              "      <td>0.0</td>\n",
              "      <td>0.0</td>\n",
              "      <td>0.0</td>\n",
              "    </tr>\n",
              "    <tr>\n",
              "      <th>3</th>\n",
              "      <td>0.0</td>\n",
              "      <td>0.0</td>\n",
              "      <td>1.0</td>\n",
              "      <td>0.0</td>\n",
              "      <td>0.0</td>\n",
              "      <td>0.0</td>\n",
              "      <td>0.0</td>\n",
              "      <td>0.0</td>\n",
              "      <td>0.0</td>\n",
              "      <td>0.0</td>\n",
              "    </tr>\n",
              "    <tr>\n",
              "      <th>4</th>\n",
              "      <td>0.0</td>\n",
              "      <td>0.0</td>\n",
              "      <td>1.0</td>\n",
              "      <td>0.0</td>\n",
              "      <td>0.0</td>\n",
              "      <td>0.0</td>\n",
              "      <td>0.0</td>\n",
              "      <td>0.0</td>\n",
              "      <td>0.0</td>\n",
              "      <td>0.0</td>\n",
              "    </tr>\n",
              "    <tr>\n",
              "      <th>...</th>\n",
              "      <td>...</td>\n",
              "      <td>...</td>\n",
              "      <td>...</td>\n",
              "      <td>...</td>\n",
              "      <td>...</td>\n",
              "      <td>...</td>\n",
              "      <td>...</td>\n",
              "      <td>...</td>\n",
              "      <td>...</td>\n",
              "      <td>...</td>\n",
              "    </tr>\n",
              "    <tr>\n",
              "      <th>461047</th>\n",
              "      <td>0.0</td>\n",
              "      <td>0.0</td>\n",
              "      <td>1.0</td>\n",
              "      <td>0.0</td>\n",
              "      <td>0.0</td>\n",
              "      <td>0.0</td>\n",
              "      <td>0.0</td>\n",
              "      <td>0.0</td>\n",
              "      <td>0.0</td>\n",
              "      <td>0.0</td>\n",
              "    </tr>\n",
              "    <tr>\n",
              "      <th>461048</th>\n",
              "      <td>0.0</td>\n",
              "      <td>1.0</td>\n",
              "      <td>0.0</td>\n",
              "      <td>0.0</td>\n",
              "      <td>0.0</td>\n",
              "      <td>0.0</td>\n",
              "      <td>0.0</td>\n",
              "      <td>0.0</td>\n",
              "      <td>0.0</td>\n",
              "      <td>0.0</td>\n",
              "    </tr>\n",
              "    <tr>\n",
              "      <th>461049</th>\n",
              "      <td>0.0</td>\n",
              "      <td>1.0</td>\n",
              "      <td>0.0</td>\n",
              "      <td>0.0</td>\n",
              "      <td>0.0</td>\n",
              "      <td>0.0</td>\n",
              "      <td>0.0</td>\n",
              "      <td>0.0</td>\n",
              "      <td>0.0</td>\n",
              "      <td>0.0</td>\n",
              "    </tr>\n",
              "    <tr>\n",
              "      <th>461050</th>\n",
              "      <td>0.0</td>\n",
              "      <td>1.0</td>\n",
              "      <td>0.0</td>\n",
              "      <td>0.0</td>\n",
              "      <td>0.0</td>\n",
              "      <td>0.0</td>\n",
              "      <td>0.0</td>\n",
              "      <td>0.0</td>\n",
              "      <td>0.0</td>\n",
              "      <td>0.0</td>\n",
              "    </tr>\n",
              "    <tr>\n",
              "      <th>461051</th>\n",
              "      <td>0.0</td>\n",
              "      <td>1.0</td>\n",
              "      <td>0.0</td>\n",
              "      <td>0.0</td>\n",
              "      <td>0.0</td>\n",
              "      <td>0.0</td>\n",
              "      <td>0.0</td>\n",
              "      <td>0.0</td>\n",
              "      <td>0.0</td>\n",
              "      <td>0.0</td>\n",
              "    </tr>\n",
              "  </tbody>\n",
              "</table>\n",
              "<p>461052 rows × 10 columns</p>\n",
              "</div>\n",
              "    <div class=\"colab-df-buttons\">\n",
              "\n",
              "  <div class=\"colab-df-container\">\n",
              "    <button class=\"colab-df-convert\" onclick=\"convertToInteractive('df-d9dd532d-83d3-4d3f-955e-f257e4c3eb22')\"\n",
              "            title=\"Convert this dataframe to an interactive table.\"\n",
              "            style=\"display:none;\">\n",
              "\n",
              "  <svg xmlns=\"http://www.w3.org/2000/svg\" height=\"24px\" viewBox=\"0 -960 960 960\">\n",
              "    <path d=\"M120-120v-720h720v720H120Zm60-500h600v-160H180v160Zm220 220h160v-160H400v160Zm0 220h160v-160H400v160ZM180-400h160v-160H180v160Zm440 0h160v-160H620v160ZM180-180h160v-160H180v160Zm440 0h160v-160H620v160Z\"/>\n",
              "  </svg>\n",
              "    </button>\n",
              "\n",
              "  <style>\n",
              "    .colab-df-container {\n",
              "      display:flex;\n",
              "      gap: 12px;\n",
              "    }\n",
              "\n",
              "    .colab-df-convert {\n",
              "      background-color: #E8F0FE;\n",
              "      border: none;\n",
              "      border-radius: 50%;\n",
              "      cursor: pointer;\n",
              "      display: none;\n",
              "      fill: #1967D2;\n",
              "      height: 32px;\n",
              "      padding: 0 0 0 0;\n",
              "      width: 32px;\n",
              "    }\n",
              "\n",
              "    .colab-df-convert:hover {\n",
              "      background-color: #E2EBFA;\n",
              "      box-shadow: 0px 1px 2px rgba(60, 64, 67, 0.3), 0px 1px 3px 1px rgba(60, 64, 67, 0.15);\n",
              "      fill: #174EA6;\n",
              "    }\n",
              "\n",
              "    .colab-df-buttons div {\n",
              "      margin-bottom: 4px;\n",
              "    }\n",
              "\n",
              "    [theme=dark] .colab-df-convert {\n",
              "      background-color: #3B4455;\n",
              "      fill: #D2E3FC;\n",
              "    }\n",
              "\n",
              "    [theme=dark] .colab-df-convert:hover {\n",
              "      background-color: #434B5C;\n",
              "      box-shadow: 0px 1px 3px 1px rgba(0, 0, 0, 0.15);\n",
              "      filter: drop-shadow(0px 1px 2px rgba(0, 0, 0, 0.3));\n",
              "      fill: #FFFFFF;\n",
              "    }\n",
              "  </style>\n",
              "\n",
              "    <script>\n",
              "      const buttonEl =\n",
              "        document.querySelector('#df-d9dd532d-83d3-4d3f-955e-f257e4c3eb22 button.colab-df-convert');\n",
              "      buttonEl.style.display =\n",
              "        google.colab.kernel.accessAllowed ? 'block' : 'none';\n",
              "\n",
              "      async function convertToInteractive(key) {\n",
              "        const element = document.querySelector('#df-d9dd532d-83d3-4d3f-955e-f257e4c3eb22');\n",
              "        const dataTable =\n",
              "          await google.colab.kernel.invokeFunction('convertToInteractive',\n",
              "                                                    [key], {});\n",
              "        if (!dataTable) return;\n",
              "\n",
              "        const docLinkHtml = 'Like what you see? Visit the ' +\n",
              "          '<a target=\"_blank\" href=https://colab.research.google.com/notebooks/data_table.ipynb>data table notebook</a>'\n",
              "          + ' to learn more about interactive tables.';\n",
              "        element.innerHTML = '';\n",
              "        dataTable['output_type'] = 'display_data';\n",
              "        await google.colab.output.renderOutput(dataTable, element);\n",
              "        const docLink = document.createElement('div');\n",
              "        docLink.innerHTML = docLinkHtml;\n",
              "        element.appendChild(docLink);\n",
              "      }\n",
              "    </script>\n",
              "  </div>\n",
              "\n",
              "\n",
              "<div id=\"df-700a6e90-d573-4892-b972-8bb7e46bd951\">\n",
              "  <button class=\"colab-df-quickchart\" onclick=\"quickchart('df-700a6e90-d573-4892-b972-8bb7e46bd951')\"\n",
              "            title=\"Suggest charts\"\n",
              "            style=\"display:none;\">\n",
              "\n",
              "<svg xmlns=\"http://www.w3.org/2000/svg\" height=\"24px\"viewBox=\"0 0 24 24\"\n",
              "     width=\"24px\">\n",
              "    <g>\n",
              "        <path d=\"M19 3H5c-1.1 0-2 .9-2 2v14c0 1.1.9 2 2 2h14c1.1 0 2-.9 2-2V5c0-1.1-.9-2-2-2zM9 17H7v-7h2v7zm4 0h-2V7h2v10zm4 0h-2v-4h2v4z\"/>\n",
              "    </g>\n",
              "</svg>\n",
              "  </button>\n",
              "\n",
              "<style>\n",
              "  .colab-df-quickchart {\n",
              "      --bg-color: #E8F0FE;\n",
              "      --fill-color: #1967D2;\n",
              "      --hover-bg-color: #E2EBFA;\n",
              "      --hover-fill-color: #174EA6;\n",
              "      --disabled-fill-color: #AAA;\n",
              "      --disabled-bg-color: #DDD;\n",
              "  }\n",
              "\n",
              "  [theme=dark] .colab-df-quickchart {\n",
              "      --bg-color: #3B4455;\n",
              "      --fill-color: #D2E3FC;\n",
              "      --hover-bg-color: #434B5C;\n",
              "      --hover-fill-color: #FFFFFF;\n",
              "      --disabled-bg-color: #3B4455;\n",
              "      --disabled-fill-color: #666;\n",
              "  }\n",
              "\n",
              "  .colab-df-quickchart {\n",
              "    background-color: var(--bg-color);\n",
              "    border: none;\n",
              "    border-radius: 50%;\n",
              "    cursor: pointer;\n",
              "    display: none;\n",
              "    fill: var(--fill-color);\n",
              "    height: 32px;\n",
              "    padding: 0;\n",
              "    width: 32px;\n",
              "  }\n",
              "\n",
              "  .colab-df-quickchart:hover {\n",
              "    background-color: var(--hover-bg-color);\n",
              "    box-shadow: 0 1px 2px rgba(60, 64, 67, 0.3), 0 1px 3px 1px rgba(60, 64, 67, 0.15);\n",
              "    fill: var(--button-hover-fill-color);\n",
              "  }\n",
              "\n",
              "  .colab-df-quickchart-complete:disabled,\n",
              "  .colab-df-quickchart-complete:disabled:hover {\n",
              "    background-color: var(--disabled-bg-color);\n",
              "    fill: var(--disabled-fill-color);\n",
              "    box-shadow: none;\n",
              "  }\n",
              "\n",
              "  .colab-df-spinner {\n",
              "    border: 2px solid var(--fill-color);\n",
              "    border-color: transparent;\n",
              "    border-bottom-color: var(--fill-color);\n",
              "    animation:\n",
              "      spin 1s steps(1) infinite;\n",
              "  }\n",
              "\n",
              "  @keyframes spin {\n",
              "    0% {\n",
              "      border-color: transparent;\n",
              "      border-bottom-color: var(--fill-color);\n",
              "      border-left-color: var(--fill-color);\n",
              "    }\n",
              "    20% {\n",
              "      border-color: transparent;\n",
              "      border-left-color: var(--fill-color);\n",
              "      border-top-color: var(--fill-color);\n",
              "    }\n",
              "    30% {\n",
              "      border-color: transparent;\n",
              "      border-left-color: var(--fill-color);\n",
              "      border-top-color: var(--fill-color);\n",
              "      border-right-color: var(--fill-color);\n",
              "    }\n",
              "    40% {\n",
              "      border-color: transparent;\n",
              "      border-right-color: var(--fill-color);\n",
              "      border-top-color: var(--fill-color);\n",
              "    }\n",
              "    60% {\n",
              "      border-color: transparent;\n",
              "      border-right-color: var(--fill-color);\n",
              "    }\n",
              "    80% {\n",
              "      border-color: transparent;\n",
              "      border-right-color: var(--fill-color);\n",
              "      border-bottom-color: var(--fill-color);\n",
              "    }\n",
              "    90% {\n",
              "      border-color: transparent;\n",
              "      border-bottom-color: var(--fill-color);\n",
              "    }\n",
              "  }\n",
              "</style>\n",
              "\n",
              "  <script>\n",
              "    async function quickchart(key) {\n",
              "      const quickchartButtonEl =\n",
              "        document.querySelector('#' + key + ' button');\n",
              "      quickchartButtonEl.disabled = true;  // To prevent multiple clicks.\n",
              "      quickchartButtonEl.classList.add('colab-df-spinner');\n",
              "      try {\n",
              "        const charts = await google.colab.kernel.invokeFunction(\n",
              "            'suggestCharts', [key], {});\n",
              "      } catch (error) {\n",
              "        console.error('Error during call to suggestCharts:', error);\n",
              "      }\n",
              "      quickchartButtonEl.classList.remove('colab-df-spinner');\n",
              "      quickchartButtonEl.classList.add('colab-df-quickchart-complete');\n",
              "    }\n",
              "    (() => {\n",
              "      let quickchartButtonEl =\n",
              "        document.querySelector('#df-700a6e90-d573-4892-b972-8bb7e46bd951 button');\n",
              "      quickchartButtonEl.style.display =\n",
              "        google.colab.kernel.accessAllowed ? 'block' : 'none';\n",
              "    })();\n",
              "  </script>\n",
              "</div>\n",
              "\n",
              "  <div id=\"id_c34f7287-5e7b-4090-ac42-4ee450c17779\">\n",
              "    <style>\n",
              "      .colab-df-generate {\n",
              "        background-color: #E8F0FE;\n",
              "        border: none;\n",
              "        border-radius: 50%;\n",
              "        cursor: pointer;\n",
              "        display: none;\n",
              "        fill: #1967D2;\n",
              "        height: 32px;\n",
              "        padding: 0 0 0 0;\n",
              "        width: 32px;\n",
              "      }\n",
              "\n",
              "      .colab-df-generate:hover {\n",
              "        background-color: #E2EBFA;\n",
              "        box-shadow: 0px 1px 2px rgba(60, 64, 67, 0.3), 0px 1px 3px 1px rgba(60, 64, 67, 0.15);\n",
              "        fill: #174EA6;\n",
              "      }\n",
              "\n",
              "      [theme=dark] .colab-df-generate {\n",
              "        background-color: #3B4455;\n",
              "        fill: #D2E3FC;\n",
              "      }\n",
              "\n",
              "      [theme=dark] .colab-df-generate:hover {\n",
              "        background-color: #434B5C;\n",
              "        box-shadow: 0px 1px 3px 1px rgba(0, 0, 0, 0.15);\n",
              "        filter: drop-shadow(0px 1px 2px rgba(0, 0, 0, 0.3));\n",
              "        fill: #FFFFFF;\n",
              "      }\n",
              "    </style>\n",
              "    <button class=\"colab-df-generate\" onclick=\"generateWithVariable('df_tfidf')\"\n",
              "            title=\"Generate code using this dataframe.\"\n",
              "            style=\"display:none;\">\n",
              "\n",
              "  <svg xmlns=\"http://www.w3.org/2000/svg\" height=\"24px\"viewBox=\"0 0 24 24\"\n",
              "       width=\"24px\">\n",
              "    <path d=\"M7,19H8.4L18.45,9,17,7.55,7,17.6ZM5,21V16.75L18.45,3.32a2,2,0,0,1,2.83,0l1.4,1.43a1.91,1.91,0,0,1,.58,1.4,1.91,1.91,0,0,1-.58,1.4L9.25,21ZM18.45,9,17,7.55Zm-12,3A5.31,5.31,0,0,0,4.9,8.1,5.31,5.31,0,0,0,1,6.5,5.31,5.31,0,0,0,4.9,4.9,5.31,5.31,0,0,0,6.5,1,5.31,5.31,0,0,0,8.1,4.9,5.31,5.31,0,0,0,12,6.5,5.46,5.46,0,0,0,6.5,12Z\"/>\n",
              "  </svg>\n",
              "    </button>\n",
              "    <script>\n",
              "      (() => {\n",
              "      const buttonEl =\n",
              "        document.querySelector('#id_c34f7287-5e7b-4090-ac42-4ee450c17779 button.colab-df-generate');\n",
              "      buttonEl.style.display =\n",
              "        google.colab.kernel.accessAllowed ? 'block' : 'none';\n",
              "\n",
              "      buttonEl.onclick = () => {\n",
              "        google.colab.notebook.generateWithVariable('df_tfidf');\n",
              "      }\n",
              "      })();\n",
              "    </script>\n",
              "  </div>\n",
              "\n",
              "    </div>\n",
              "  </div>\n"
            ],
            "text/plain": [
              "        기술과학   문학  사회과학   언어   역사   예술  자연과학   종교   철학   총류\n",
              "0        0.0  0.0   1.0  0.0  0.0  0.0   0.0  0.0  0.0  0.0\n",
              "1        0.0  0.0   1.0  0.0  0.0  0.0   0.0  0.0  0.0  0.0\n",
              "2        0.0  0.0   1.0  0.0  0.0  0.0   0.0  0.0  0.0  0.0\n",
              "3        0.0  0.0   1.0  0.0  0.0  0.0   0.0  0.0  0.0  0.0\n",
              "4        0.0  0.0   1.0  0.0  0.0  0.0   0.0  0.0  0.0  0.0\n",
              "...      ...  ...   ...  ...  ...  ...   ...  ...  ...  ...\n",
              "461047   0.0  0.0   1.0  0.0  0.0  0.0   0.0  0.0  0.0  0.0\n",
              "461048   0.0  1.0   0.0  0.0  0.0  0.0   0.0  0.0  0.0  0.0\n",
              "461049   0.0  1.0   0.0  0.0  0.0  0.0   0.0  0.0  0.0  0.0\n",
              "461050   0.0  1.0   0.0  0.0  0.0  0.0   0.0  0.0  0.0  0.0\n",
              "461051   0.0  1.0   0.0  0.0  0.0  0.0   0.0  0.0  0.0  0.0\n",
              "\n",
              "[461052 rows x 10 columns]"
            ]
          },
          "execution_count": 18,
          "metadata": {},
          "output_type": "execute_result"
        }
      ],
      "source": [
        "from sklearn.feature_extraction.text import TfidfVectorizer\n",
        "\n",
        "tfidfvect = TfidfVectorizer(max_features=2000, lowercase=False)\n",
        "tfidf_overview = tfidfvect.fit_transform(df['KDC_Category'])\n",
        "df_tfidf = pd.DataFrame(tfidf_overview.toarray(), columns=tfidfvect.get_feature_names_out())\n",
        "df_tfidf"
      ]
    },
    {
      "cell_type": "code",
      "execution_count": null,
      "metadata": {
        "colab": {
          "base_uri": "https://localhost:8080/"
        },
        "id": "1YGGFshYg1Lc",
        "outputId": "c762269f-aa51-4fde-8fd4-36313c933459"
      },
      "outputs": [
        {
          "name": "stdout",
          "output_type": "stream",
          "text": [
            "Reading package lists... Done\n",
            "Building dependency tree... Done\n",
            "Reading state information... Done\n",
            "The following NEW packages will be installed:\n",
            "  fonts-nanum\n",
            "0 upgraded, 1 newly installed, 0 to remove and 24 not upgraded.\n",
            "Need to get 10.3 MB of archives.\n",
            "After this operation, 34.1 MB of additional disk space will be used.\n",
            "Get:1 http://archive.ubuntu.com/ubuntu jammy/universe amd64 fonts-nanum all 20200506-1 [10.3 MB]\n",
            "Fetched 10.3 MB in 3s (3,717 kB/s)\n",
            "debconf: unable to initialize frontend: Dialog\n",
            "debconf: (No usable dialog-like program is installed, so the dialog based frontend cannot be used. at /usr/share/perl5/Debconf/FrontEnd/Dialog.pm line 78, <> line 1.)\n",
            "debconf: falling back to frontend: Readline\n",
            "debconf: unable to initialize frontend: Readline\n",
            "debconf: (This frontend requires a controlling tty.)\n",
            "debconf: falling back to frontend: Teletype\n",
            "dpkg-preconfigure: unable to re-open stdin: \n",
            "Selecting previously unselected package fonts-nanum.\n",
            "(Reading database ... 121654 files and directories currently installed.)\n",
            "Preparing to unpack .../fonts-nanum_20200506-1_all.deb ...\n",
            "Unpacking fonts-nanum (20200506-1) ...\n",
            "Setting up fonts-nanum (20200506-1) ...\n",
            "Processing triggers for fontconfig (2.13.1-4.2ubuntu5) ...\n",
            "/usr/share/fonts: caching, new cache contents: 0 fonts, 1 dirs\n",
            "/usr/share/fonts/truetype: caching, new cache contents: 0 fonts, 3 dirs\n",
            "/usr/share/fonts/truetype/humor-sans: caching, new cache contents: 1 fonts, 0 dirs\n",
            "/usr/share/fonts/truetype/liberation: caching, new cache contents: 16 fonts, 0 dirs\n",
            "/usr/share/fonts/truetype/nanum: caching, new cache contents: 12 fonts, 0 dirs\n",
            "/usr/local/share/fonts: caching, new cache contents: 0 fonts, 0 dirs\n",
            "/root/.local/share/fonts: skipping, no such directory\n",
            "/root/.fonts: skipping, no such directory\n",
            "/usr/share/fonts/truetype: skipping, looped directory detected\n",
            "/usr/share/fonts/truetype/humor-sans: skipping, looped directory detected\n",
            "/usr/share/fonts/truetype/liberation: skipping, looped directory detected\n",
            "/usr/share/fonts/truetype/nanum: skipping, looped directory detected\n",
            "/var/cache/fontconfig: cleaning cache directory\n",
            "/root/.cache/fontconfig: not cleaning non-existent cache directory\n",
            "/root/.fontconfig: not cleaning non-existent cache directory\n",
            "fc-cache: succeeded\n"
          ]
        }
      ],
      "source": [
        "# colab 폰트 오류\n",
        "!sudo apt-get install -y fonts-nanum\n",
        "!sudo fc-cache -fv\n",
        "!rm ~/.cache/matplotlib -rf"
      ]
    },
    {
      "cell_type": "code",
      "execution_count": null,
      "metadata": {
        "id": "AnfzByIHg4T9"
      },
      "outputs": [],
      "source": [
        "import matplotlib.pyplot as plt\n",
        "\n",
        "plt.rc('font', family='NanumBarunGothic')"
      ]
    },
    {
      "cell_type": "code",
      "execution_count": null,
      "metadata": {
        "id": "1OR8r2AXh17L"
      },
      "outputs": [],
      "source": [
        "rating= df_data[[\"userId\", \"bookId\", \"rated\"]]\n",
        "rating_matrix= rating.pivot_table(\"rated\", index= \"userId\", columns= \"bookId\").fillna(0)\n",
        "rating_matrix.head()"
      ]
    },
    {
      "cell_type": "code",
      "execution_count": null,
      "metadata": {
        "id": "en8Y9Xo-h7sy"
      },
      "outputs": [],
      "source": [
        "rating_matrix_tr= rating_matrix.transpose()\n",
        "rating_matrix_tr.head()"
      ]
    },
    {
      "cell_type": "code",
      "execution_count": null,
      "metadata": {
        "colab": {
          "base_uri": "https://localhost:8080/",
          "height": 147
        },
        "id": "PU3oYnCVwqLB",
        "outputId": "1749c3c2-9d36-41a5-c375-748e0f3915ca"
      },
      "outputs": [
        {
          "ename": "SyntaxError",
          "evalue": "invalid syntax. Perhaps you forgot a comma? (<ipython-input-12-c472fd347f94>, line 6)",
          "output_type": "error",
          "traceback": [
            "\u001b[0;36m  File \u001b[0;32m\"<ipython-input-12-c472fd347f94>\"\u001b[0;36m, line \u001b[0;32m6\u001b[0m\n\u001b[0;31m    c_vector=counter_vector.fit_transform(df[])\u001b[0m\n\u001b[0m                                          ^\u001b[0m\n\u001b[0;31mSyntaxError\u001b[0m\u001b[0;31m:\u001b[0m invalid syntax. Perhaps you forgot a comma?\n"
          ]
        }
      ],
      "source": [
        "#콘텐츠 기반 필터링 추천\n",
        "from sklearn.feature_extraction.text import CountVectorizer\n",
        "\n",
        "counter_vector =CountVectorizer(ngram_range=(1,3))\n",
        "\n",
        "c_vector=counter_vector.fit_transform(df[])\n",
        "\n",
        "c_vector.shape"
      ]
    },
    {
      "cell_type": "code",
      "execution_count": null,
      "metadata": {
        "id": "9DGDmpxgeyK5"
      },
      "outputs": [],
      "source": [
        "#코사인 유사도를 사용하여 도서들간의 유사도를 측정\n",
        "from sklearn.metrics.pairwise import cosine_similarity\n",
        "\n",
        "sim= cosine_similarity(rating_matrix_tr, rating_matrix_tr)\n",
        "\n",
        "df_sim= pd.DataFrame(data= sim, index= rating_matrix.columns, columns= rating_matrix.columns)\n",
        "df_sim.head()"
      ]
    },
    {
      "cell_type": "code",
      "execution_count": null,
      "metadata": {
        "id": "HtyYgo6Xebd_"
      },
      "outputs": [],
      "source": [
        "#성능 지표 정의 코드\n",
        "def _compute_precision_recall(targets, predictions, k):\n",
        "\t\t\"\"\"\n",
        "\t\ttargets : 테스트 데이터 중, 사용자의 피드백이 있는 item 인덱스 리스트\n",
        "\t\tpredictions : 학습 데이터에 피드백이 존재하는 item을 제외한 예측 데이터\n",
        "\t\tk : 추천 수\n",
        "    \"\"\"\n",
        "    pred = predictions[:k]\n",
        "    num_hit = len(set(pred).intersection(set(targets)))\n",
        "    precision = float(num_hit) / len(pred)\n",
        "    recall = float(num_hit) / len(targets)\n",
        "    return precision, recall"
      ]
    },
    {
      "cell_type": "code",
      "execution_count": null,
      "metadata": {
        "id": "0jqxcnkhefQV"
      },
      "outputs": [],
      "source": [
        "#성능 측정 코드\n",
        "def evaluate_ranking(model, test, train=None, k=10):\n",
        "    \"\"\"\n",
        "\t\tmodel : 학습 모델 객체\n",
        "\t\ttest : test 데이터셋, csr형식의 피벗테이블 (m*n1)\n",
        "\t\ttrain : train 데이터셋, csr형식의 피벗테이블 (m*n2)\n",
        "\t\tk : 추천 수\n",
        "    \"\"\"\n",
        "\n",
        "    test = test.tocsr()\n",
        "\n",
        "    if train is not None:\n",
        "        train = train.tocsr()\n",
        "\n",
        "    # ks : 서로 다른 k의 리스트\n",
        "    if not isinstance(k, list):\n",
        "        ks = [k]\n",
        "    else:\n",
        "        ks = k\n",
        "\n",
        "    precisions = [list() for _ in range(len(ks))]\n",
        "    recalls = [list() for _ in range(len(ks))]\n",
        "\n",
        "    for userid, row in enumerate(test):\n",
        "        '''\n",
        "        userid : 고유 사용자 ID (0~m-1)\n",
        "        row : 각 user에 대한 피드백이 있는 열(상품) 인덱스(튜플)\n",
        "        '''\n",
        "\n",
        "        if not len(row.indices):\n",
        "            continue\n",
        "\n",
        "        predictions = model.predict(userid)\n",
        "        predictions = predictions.argsort()\n",
        "\n",
        "        # rated : train 피벗테이블에서 해당 user_id의 피드백이 있는 열(상품) 인덱스 리스트\n",
        "        if train is not None:\n",
        "            rated = set(train[userid].indices)\n",
        "        else:\n",
        "            rated = []\n",
        "\n",
        "        # 예측값(추천 상품ID=열 인덱스) 중 구매 이력(rated) 없는 예측값만 필터링\n",
        "        predictions = [p for p in predictions if p not in rated]\n",
        "\n",
        "        # test 피벗테이블에서 해당 user_id의 피드백이 있는 열(상품) 인덱스 리스트\n",
        "        targets = row.indices\n",
        "\n",
        "        # 여러 개의 k에 대한 테스트를 위해 반복문 실행\n",
        "        for i, _k in enumerate(ks):\n",
        "            precision, recall = _compute_precision_recall(targets, predictions, _k)\n",
        "            precisions[i].append(precision) # precisions : k별 각 사용자의 precision@k 측정 리스트\n",
        "            recalls[i].append(recall)   # recalls : k별 각 사용자의 recalln@k 측정 리스트\n",
        "\n",
        "    precisions = [np.mean(np.array(i)) for i in precisions]\n",
        "    recalls = [np.mean(np.array(i)) for i in recalls]\n",
        "\n",
        "    return precisions, recalls"
      ]
    }
  ],
  "metadata": {
    "colab": {
      "provenance": []
    },
    "kernelspec": {
      "display_name": "Python 3",
      "name": "python3"
    },
    "language_info": {
      "codemirror_mode": {
        "name": "ipython",
        "version": 3
      },
      "file_extension": ".py",
      "mimetype": "text/x-python",
      "name": "python",
      "nbconvert_exporter": "python",
      "pygments_lexer": "ipython3",
      "version": "3.11.5"
    }
  },
  "nbformat": 4,
  "nbformat_minor": 0
}
