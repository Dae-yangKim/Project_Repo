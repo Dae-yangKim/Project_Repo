{
 "cells": [
  {
   "cell_type": "code",
   "execution_count": 1,
   "metadata": {},
   "outputs": [],
   "source": [
    "import pandas as pd"
   ]
  },
  {
   "cell_type": "code",
   "execution_count": 2,
   "metadata": {},
   "outputs": [],
   "source": [
    "path = \"C:/Users/user/Desktop/K-Digital Project 002/K_Digital_02/kkh3363/분석 자료/개발자2/New_Data/\"\n",
    "\n",
    "data = pd.read_csv(path + 'final_data_drop_duplicates.csv')"
   ]
  },
  {
   "cell_type": "code",
   "execution_count": 4,
   "metadata": {},
   "outputs": [],
   "source": [
    "data.drop(['Unnamed: 0'] , axis = 1 , inplace = True)"
   ]
  },
  {
   "cell_type": "code",
   "execution_count": 51,
   "metadata": {},
   "outputs": [],
   "source": [
    "data.rename(columns = {'Unnamed: 0' : 'Book Index'} , inplace = True)"
   ]
  },
  {
   "cell_type": "code",
   "execution_count": 6,
   "metadata": {},
   "outputs": [],
   "source": [
    "# PBLICTE_DE , KDC_Category 전처리 필요\n",
    "\n",
    "# KDC_Category\n",
    "\n",
    "from sklearn.preprocessing import LabelEncoder\n",
    "\n",
    "encoder = LabelEncoder()\n",
    "data['KDC_Category'] = encoder.fit_transform(data['KDC_Category'])"
   ]
  },
  {
   "cell_type": "code",
   "execution_count": 53,
   "metadata": {},
   "outputs": [
    {
     "name": "stdout",
     "output_type": "stream",
     "text": [
      "15 : TRUE\n",
      "21 : TRUE\n",
      "22 : TRUE\n",
      "23 : TRUE\n",
      "25 : TRUE\n",
      "26 : TRUE\n",
      "27 : TRUE\n",
      "28 : TRUE\n",
      "29 : TRUE\n",
      "30 : TRUE\n",
      "32 : TRUE\n",
      "33 : TRUE\n",
      "34 : TRUE\n",
      "35 : TRUE\n",
      "36 : TRUE\n",
      "37 : TRUE\n",
      "38 : TRUE\n",
      "39 : TRUE\n",
      "40 : TRUE\n",
      "41 : TRUE\n",
      "42 : TRUE\n",
      "44 : TRUE\n",
      "45 : TRUE\n",
      "47 : TRUE\n",
      "48 : TRUE\n",
      "49 : TRUE\n",
      "50 : TRUE\n",
      "51 : TRUE\n",
      "52 : TRUE\n",
      "53 : TRUE\n",
      "54 : TRUE\n",
      "55 : TRUE\n",
      "56 : TRUE\n",
      "57 : TRUE\n",
      "62 : TRUE\n",
      "63 : TRUE\n",
      "64 : TRUE\n",
      "65 : TRUE\n",
      "67 : TRUE\n",
      "68 : TRUE\n",
      "69 : TRUE\n",
      "70 : TRUE\n",
      "71 : TRUE\n",
      "72 : TRUE\n",
      "73 : TRUE\n",
      "74 : TRUE\n",
      "75 : TRUE\n",
      "76 : TRUE\n",
      "77 : TRUE\n",
      "78 : TRUE\n",
      "79 : TRUE\n",
      "81 : TRUE\n",
      "82 : TRUE\n",
      "83 : TRUE\n",
      "84 : TRUE\n",
      "85 : TRUE\n",
      "86 : TRUE\n",
      "87 : TRUE\n",
      "88 : TRUE\n",
      "89 : TRUE\n",
      "90 : TRUE\n",
      "91 : TRUE\n",
      "92 : TRUE\n",
      "93 : TRUE\n",
      "94 : TRUE\n",
      "95 : TRUE\n",
      "96 : TRUE\n",
      "97 : TRUE\n",
      "98 : TRUE\n",
      "99 : TRUE\n",
      "100 : TRUE\n",
      "101 : TRUE\n",
      "102 : TRUE\n",
      "103 : TRUE\n",
      "104 : TRUE\n",
      "105 : TRUE\n",
      "106 : TRUE\n",
      "107 : TRUE\n",
      "108 : TRUE\n",
      "109 : TRUE\n",
      "110 : TRUE\n",
      "111 : TRUE\n",
      "112 : TRUE\n",
      "114 : TRUE\n",
      "115 : TRUE\n",
      "116 : TRUE\n",
      "117 : TRUE\n",
      "118 : TRUE\n",
      "119 : TRUE\n",
      "120 : TRUE\n",
      "121 : TRUE\n",
      "122 : TRUE\n",
      "123 : TRUE\n",
      "124 : TRUE\n",
      "125 : TRUE\n",
      "127 : TRUE\n",
      "129 : TRUE\n",
      "130 : TRUE\n",
      "131 : TRUE\n",
      "132 : TRUE\n",
      "133 : TRUE\n",
      "134 : TRUE\n",
      "135 : TRUE\n",
      "136 : TRUE\n",
      "136 : TRUE\n",
      "137 : TRUE\n",
      "138 : TRUE\n",
      "139 : TRUE\n",
      "140 : TRUE\n",
      "141 : TRUE\n",
      "142 : TRUE\n",
      "143 : TRUE\n",
      "144 : TRUE\n",
      "145 : TRUE\n",
      "146 : TRUE\n",
      "147 : TRUE\n",
      "147 : TRUE\n",
      "148 : TRUE\n",
      "149 : TRUE\n",
      "150 : TRUE\n",
      "151 : TRUE\n",
      "152 : TRUE\n",
      "154 : TRUE\n",
      "155 : TRUE\n",
      "156 : TRUE\n",
      "158 : TRUE\n",
      "159 : TRUE\n",
      "127\n"
     ]
    }
   ],
   "source": [
    "# PBLICTE_DE\n",
    "\n",
    "noise = ['[' , 'c' , '-' , '실은']\n",
    "\n",
    "unique_data = data['PBLICTE_DE'].unique()\n",
    "\n",
    "count = 0\n",
    "for idx in range(len(unique_data)):\n",
    "    for s in noise:\n",
    "        if s in unique_data[idx]:\n",
    "            print(f\"{idx} : TRUE\")\n",
    "            count += 1\n",
    "\n",
    "print(count) # 127개 존재"
   ]
  },
  {
   "cell_type": "code",
   "execution_count": 54,
   "metadata": {},
   "outputs": [
    {
     "data": {
      "text/plain": [
       "33"
      ]
     },
     "execution_count": 54,
     "metadata": {},
     "output_type": "execute_result"
    }
   ],
   "source": [
    "len(unique_data) - 127"
   ]
  },
  {
   "cell_type": "code",
   "execution_count": 55,
   "metadata": {},
   "outputs": [
    {
     "name": "stdout",
     "output_type": "stream",
     "text": [
      "1234\n"
     ]
    }
   ],
   "source": [
    "test = '[1234]'\n",
    "print(test.strip(\"[]\"))"
   ]
  },
  {
   "cell_type": "code",
   "execution_count": 56,
   "metadata": {},
   "outputs": [],
   "source": [
    "data_copy = data.copy(deep = True)"
   ]
  },
  {
   "cell_type": "code",
   "execution_count": 57,
   "metadata": {},
   "outputs": [],
   "source": [
    "# [] 또는 c가 붙은 데이터는 처리\n",
    "\n",
    "for idx in range(len(unique_data)):\n",
    "    if \"[\" in unique_data[idx]:\n",
    "        data_copy.loc[data_copy['PBLICTE_DE'] == unique_data[idx] , 'PBLICTE_DE'] = unique_data[idx].strip(\"[]\")\n",
    "    elif \"c\" in unique_data[idx]:\n",
    "        data_copy.loc[data_copy['PBLICTE_DE'] == unique_data[idx] , 'PBLICTE_DE'] = unique_data[idx].replace('c' , '')"
   ]
  },
  {
   "cell_type": "code",
   "execution_count": 58,
   "metadata": {},
   "outputs": [],
   "source": [
    "data_copy.loc[data_copy['PBLICTE_DE'] == '2008, 200' , 'PBLICTE_DE'] = '2008'"
   ]
  },
  {
   "cell_type": "code",
   "execution_count": 59,
   "metadata": {},
   "outputs": [],
   "source": [
    "\"\"\"\n",
    "'0001' , '1982, 197' , '201' , '202' , '1900-01-01' ,\n",
    "'2011[실은 20' , '2017-20018' , '2008-01-01' , '2020[실은 20' ,\n",
    "'2015-10-08' , '1999.'\n",
    "\"\"\"\n",
    "\n",
    "noise = ['0001' , '1982, 197' , '201' , '202' , '1900-01-01' ,\n",
    "'2011[실은 20' , '2017-20018' , '2008-01-01' , '2020[실은 20' ,\n",
    "'2015-10-08' , '1999.']\n",
    "\n",
    "unknown = ['0001' , '201' , '202']\n",
    "data_copy.loc[data_copy['PBLICTE_DE'].isin(unknown) , 'PBLICTE_DE'] = '-1'"
   ]
  },
  {
   "cell_type": "code",
   "execution_count": 60,
   "metadata": {},
   "outputs": [],
   "source": [
    "data_copy.loc[data_copy['PBLICTE_DE'].isin(['1982, 197' , '1900-01-01' , '2011[실은 20' , '2020[실은 20' , '2008-01-01' , '2015-10-08' , '1999.']) , 'PBLICTE_DE'] = data_copy.loc[data_copy['PBLICTE_DE'].isin(['1982, 197' , '1900-01-01' , '2011[실은 20' , '2020[실은 20' , '2008-01-01' , '2015-10-08' , '1999.']) , 'PBLICTE_DE'].str[0:4]"
   ]
  },
  {
   "cell_type": "code",
   "execution_count": 61,
   "metadata": {},
   "outputs": [],
   "source": [
    "data_copy.loc[data_copy['PBLICTE_DE'] == '2017-20018' , 'PBLICTE_DE'] = '2017-2018'"
   ]
  },
  {
   "cell_type": "code",
   "execution_count": 62,
   "metadata": {},
   "outputs": [],
   "source": [
    "data['PBLICTE_DE'] = data_copy['PBLICTE_DE']"
   ]
  },
  {
   "cell_type": "code",
   "execution_count": 9,
   "metadata": {},
   "outputs": [],
   "source": [
    "data.to_csv(path + 'final_data_drop_duplicates.csv' , index = False)"
   ]
  }
 ],
 "metadata": {
  "kernelspec": {
   "display_name": "SMBC_Project",
   "language": "python",
   "name": "python3"
  },
  "language_info": {
   "codemirror_mode": {
    "name": "ipython",
    "version": 3
   },
   "file_extension": ".py",
   "mimetype": "text/x-python",
   "name": "python",
   "nbconvert_exporter": "python",
   "pygments_lexer": "ipython3",
   "version": "3.11.5"
  }
 },
 "nbformat": 4,
 "nbformat_minor": 2
}
