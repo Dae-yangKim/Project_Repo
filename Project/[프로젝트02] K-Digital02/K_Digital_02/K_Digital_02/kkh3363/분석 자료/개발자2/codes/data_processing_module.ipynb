{
 "cells": [
  {
   "cell_type": "code",
   "execution_count": 1,
   "metadata": {},
   "outputs": [],
   "source": [
    "# library import\n",
    "\n",
    "# library import\n",
    "import pandas as pd\n",
    "import numpy as np\n",
    "import matplotlib.pyplot as plt\n",
    "import matplotlib.font_manager as fm\n",
    "import seaborn as sns\n",
    "\n",
    "import missingno as msno\n",
    "import warnings\n",
    "warnings.filterwarnings('ignore')\n",
    "\n",
    "import scipy.stats as stats\n",
    "\n",
    "from sklearn.model_selection import train_test_split , cross_val_score , StratifiedKFold\n",
    "from sklearn.preprocessing import LabelEncoder , RobustScaler\n",
    "from sklearn.ensemble import RandomForestClassifier\n",
    "from sklearn.metrics import classification_report"
   ]
  },
  {
   "cell_type": "code",
   "execution_count": 2,
   "metadata": {},
   "outputs": [],
   "source": [
    "# data import\n",
    "\n",
    "path = '/Users/kengohirano/Desktop/Project_all_Data/'\n",
    "\n",
    "name = 'NL_BO_BEST_LOAN_BOOK_HISTORY_2021'\n",
    "name_2 = 'NL_BO_BEST_LOAN_BOOK_HISTORY_202012-'\n",
    "\n",
    "group_1 = [] # 2021년 1월 ~ 12월 데이터\n",
    "group_2 = [] # 2020년 12월 데이터 (12-1 ~ 12-6)\n",
    "group_3 = [] # 2019 데이터\n",
    "\n",
    "# group_1\n",
    "for i in range(1 , 13):\n",
    "    if i < 10:\n",
    "        group_1.append(pd.read_csv(path + f\"NL_BO_BEST_LOAN_BOOK_HISTORY_20210{i}.csv\"))\n",
    "    else:\n",
    "        group_1.append(pd.read_csv(path + f\"NL_BO_BEST_LOAN_BOOK_HISTORY_2021{i}.csv\"))\n",
    "\n",
    "# group_2\n",
    "for i in range(1 , 7):\n",
    "    group_2.append(pd.read_csv(path + f\"NL_BO_BEST_LOAN_BOOK_HISTORY_202012-{i}.csv\"))\n",
    "\n",
    "# group_3\n",
    "group_3.append(pd.read_csv(path + 'NL_bo_best_loan_book_history_2019.csv'))"
   ]
  },
  {
   "cell_type": "code",
   "execution_count": 3,
   "metadata": {},
   "outputs": [
    {
     "name": "stdout",
     "output_type": "stream",
     "text": [
      "그룹 1 데이터 길이 : 12\n",
      "그룹 2 데터터 길이 : 6\n",
      "그룹 3 데이터 길이 : 1\n"
     ]
    }
   ],
   "source": [
    "# 데이터 로드 확인\n",
    "# 총 데\n",
    "\n",
    "print(f\"그룹 1 데이터 길이 : {len(group_1)}\")\n",
    "print(f\"그룹 2 데터터 길이 : {len(group_2)}\")\n",
    "print(f\"그룹 3 데이터 길이 : {len(group_3)}\")"
   ]
  },
  {
   "cell_type": "code",
   "execution_count": 4,
   "metadata": {},
   "outputs": [],
   "source": [
    "df_1 = pd.concat(group_1 , axis = 0)\n",
    "df_2 = pd.concat(group_2 , axis = 0)\n",
    "df_3 = group_3[0]"
   ]
  },
  {
   "cell_type": "code",
   "execution_count": 5,
   "metadata": {},
   "outputs": [
    {
     "name": "stdout",
     "output_type": "stream",
     "text": [
      "group_1 Data Size : (2255000, 22)\n",
      "group_2 Data Size : (3446675, 22)\n",
      "group_3 Data Size : (183608, 22)\n",
      "All Data Size : 5885283\n"
     ]
    }
   ],
   "source": [
    "idx = 1\n",
    "size = 0\n",
    "for i in [df_1 , df_2 , df_3]:\n",
    "    print(f\"group_{idx} Data Size : {i.shape}\")\n",
    "    idx += 1\n",
    "    size += i.shape[0]\n",
    "\n",
    "print(f\"All Data Size : {size}\")"
   ]
  },
  {
   "cell_type": "code",
   "execution_count": 6,
   "metadata": {},
   "outputs": [],
   "source": [
    "group_3[0].columns = ['SEQ_NO', 'RANK_CO', 'INPT_DE', 'ISBN_THIRTEEN_NO', 'BOOK_TITLE_NM',\n",
    "       'AUTHR_NM', 'BOOK_INTRCN_CN', 'PUBLISHER_NM', 'PBLICTE_DE',\n",
    "       'BOOK_IMAGE_NM', 'BOOK_MASTR_SEQ_NO', 'KDC_NM', 'LON_CO', 'ANALS_PD_CD',\n",
    "       'ANALS_PD_CD_NM', 'ANALS_TY_CD', 'ANALS_TY_CD_NM', 'AGE_FLAG_NM',\n",
    "       'AREA_NM', 'SEXDSTN_FLAG_NM', 'VLM_NM', 'ANALS_LON_TOT_CO']"
   ]
  },
  {
   "cell_type": "code",
   "execution_count": 7,
   "metadata": {},
   "outputs": [
    {
     "data": {
      "text/plain": [
       "(5885283, 22)"
      ]
     },
     "execution_count": 7,
     "metadata": {},
     "output_type": "execute_result"
    }
   ],
   "source": [
    "df = pd.concat([df_1 , df_2] , axis = 0)\n",
    "df = pd.concat([df , df_3] , axis = 0)\n",
    "\n",
    "df.shape"
   ]
  },
  {
   "cell_type": "code",
   "execution_count": 8,
   "metadata": {},
   "outputs": [],
   "source": [
    "# 크롤링 데이터 불러오기\n",
    "\n",
    "cr_data = pd.read_excel(path + 'Yes24_Cr.xlsx')"
   ]
  },
  {
   "cell_type": "code",
   "execution_count": 9,
   "metadata": {},
   "outputs": [],
   "source": [
    "df = pd.merge(df , cr_data , on = 'ISBN_THIRTEEN_NO' , how = 'outer')"
   ]
  },
  {
   "cell_type": "code",
   "execution_count": 10,
   "metadata": {},
   "outputs": [
    {
     "data": {
      "text/plain": [
       "(55991738, 25)"
      ]
     },
     "execution_count": 10,
     "metadata": {},
     "output_type": "execute_result"
    }
   ],
   "source": [
    "df.shape"
   ]
  },
  {
   "cell_type": "code",
   "execution_count": 11,
   "metadata": {},
   "outputs": [],
   "source": [
    "df.to_csv(path + 'merged_data.csv' , index = False)"
   ]
  }
 ],
 "metadata": {
  "kernelspec": {
   "display_name": "Dacon_Hackerton",
   "language": "python",
   "name": "python3"
  },
  "language_info": {
   "codemirror_mode": {
    "name": "ipython",
    "version": 3
   },
   "file_extension": ".py",
   "mimetype": "text/x-python",
   "name": "python",
   "nbconvert_exporter": "python",
   "pygments_lexer": "ipython3",
   "version": "3.11.7"
  }
 },
 "nbformat": 4,
 "nbformat_minor": 2
}
