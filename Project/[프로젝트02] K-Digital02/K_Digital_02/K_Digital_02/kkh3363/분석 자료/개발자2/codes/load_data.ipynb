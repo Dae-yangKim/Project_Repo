{
 "cells": [
  {
   "cell_type": "code",
   "execution_count": 2,
   "metadata": {},
   "outputs": [],
   "source": [
    "import pandas as pd\n",
    "import warnings\n",
    "warnings.filterwarnings('ignore')"
   ]
  },
  {
   "cell_type": "code",
   "execution_count": 3,
   "metadata": {},
   "outputs": [
    {
     "name": "stdout",
     "output_type": "stream",
     "text": [
      "Complete : 3\n",
      "Complete : 4\n",
      "Complete : 5\n",
      "Complete : 6\n",
      "Complete : 7\n",
      "Complete : 8\n",
      "Complete : 9\n",
      "Complete : 10\n",
      "Complete : 11\n",
      "Complete : 12\n"
     ]
    }
   ],
   "source": [
    "data_list = []\n",
    "path = \"C:/Users/user/Desktop/K-Digital Project 002/K_Digital_02/kkh3363/분석 자료/개발자2/New_Data/\"\n",
    "\n",
    "for i in range(3 , 13):\n",
    "    if i < 10:\n",
    "        data_list.append(pd.read_csv(path + f'NL_BO_BEST_LOAN_BOOK_HISTORY_20210{i}.csv'))\n",
    "    else:\n",
    "        data_list.append(pd.read_csv(path + f'NL_BO_BEST_LOAN_BOOK_HISTORY_2021{i}.csv'))\n",
    "    \n",
    "    print(f\"Complete : {i}\")"
   ]
  },
  {
   "cell_type": "code",
   "execution_count": 4,
   "metadata": {},
   "outputs": [],
   "source": [
    "merged_data = pd.read_csv(path + \"합친_파일.csv\")"
   ]
  },
  {
   "cell_type": "code",
   "execution_count": 5,
   "metadata": {},
   "outputs": [],
   "source": [
    "df = pd.concat(data_list , axis = 0)"
   ]
  },
  {
   "cell_type": "code",
   "execution_count": 6,
   "metadata": {},
   "outputs": [],
   "source": [
    "df = pd.concat([df , merged_data] , axis = 0)"
   ]
  },
  {
   "cell_type": "code",
   "execution_count": 7,
   "metadata": {},
   "outputs": [
    {
     "name": "stdout",
     "output_type": "stream",
     "text": [
      "중복 제거 : 5324548 -> 118679\n"
     ]
    }
   ],
   "source": [
    "copy_data = df.copy(deep = True)\n",
    "\n",
    "print(f\"중복 제거 : {copy_data.shape[0]} -> {copy_data.drop_duplicates(subset = 'ISBN_THIRTEEN_NO').shape[0]}\")"
   ]
  },
  {
   "cell_type": "code",
   "execution_count": 8,
   "metadata": {},
   "outputs": [],
   "source": [
    "copy_data.drop_duplicates(subset = 'ISBN_THIRTEEN_NO' , inplace = True)"
   ]
  },
  {
   "cell_type": "code",
   "execution_count": 10,
   "metadata": {},
   "outputs": [],
   "source": [
    "copy_data.to_csv(path + 'all_data_drop_duplicates.csv' , index = False)"
   ]
  }
 ],
 "metadata": {
  "kernelspec": {
   "display_name": "SMBC_Project",
   "language": "python",
   "name": "python3"
  },
  "language_info": {
   "codemirror_mode": {
    "name": "ipython",
    "version": 3
   },
   "file_extension": ".py",
   "mimetype": "text/x-python",
   "name": "python",
   "nbconvert_exporter": "python",
   "pygments_lexer": "ipython3",
   "version": "3.11.5"
  }
 },
 "nbformat": 4,
 "nbformat_minor": 2
}
