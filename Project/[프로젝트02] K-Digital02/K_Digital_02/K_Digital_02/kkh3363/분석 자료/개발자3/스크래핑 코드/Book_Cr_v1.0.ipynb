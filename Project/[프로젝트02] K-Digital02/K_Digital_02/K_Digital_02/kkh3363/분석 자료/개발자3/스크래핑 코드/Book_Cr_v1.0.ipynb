{
 "cells": [
  {
   "cell_type": "code",
   "execution_count": 11,
   "metadata": {},
   "outputs": [],
   "source": [
    "from bs4 import BeautifulSoup\n",
    "import pymysql\n",
    "import requests\n",
    "# import library\n",
    "\n",
    "import pandas as pd\n",
    "import numpy as np\n",
    "import matplotlib.pyplot as plt\n",
    "import seaborn as sns\n",
    "\n",
    "sns.set_style('darkgrid')\n",
    "sns.set_palette('Set3')\n",
    "\n",
    "import warnings\n",
    "warnings.filterwarnings('ignore')\n",
    "\n",
    "plt.rcParams[\"font.family\"] = \"NanumBarunGothic\"\n",
    "\n",
    "import re"
   ]
  },
  {
   "cell_type": "code",
   "execution_count": 27,
   "metadata": {},
   "outputs": [
    {
     "name": "stdout",
     "output_type": "stream",
     "text": [
      "데이터 수: 2\n"
     ]
    }
   ],
   "source": [
    "# data load\n",
    "# pip install openpyxl\n",
    "path = \"C:/프로젝트/k-d/2-Project/주제/data\"\n",
    "# main = pd.read_excel(path + '/국립중앙도서관 대출 데이터/NL_CO_LOAN_PUB_202311-7.xlsx')\n",
    "Top_Lib = pd.read_excel(path + '/크롤링select데이터/제목_ISBN중복제거(3).xlsx')\n",
    "\n",
    "\n",
    "num_rows, num_columns = Top_Lib.shape\n",
    "\n",
    "# 결과 출력\n",
    "print(f\"데이터 수: {num_rows}\")\n",
    "\n",
    "plt.rcParams['font.family'] ='Malgun Gothic'\n",
    "plt.rcParams['axes.unicode_minus'] =False"
   ]
  },
  {
   "cell_type": "code",
   "execution_count": 9,
   "metadata": {},
   "outputs": [],
   "source": [
    "# Test 실행\n",
    "# #headers = {\n",
    "#   'User-Agent': 'Mozilla/5.0 (Windows NT 10.0; Win64; x64) AppleWebKit/537.36 (KHTML, like Gecko) Chrome/58.0.3029.110 Safari/537.3'\n",
    "#}\n",
    "\n",
    "#for index, count in Top_Lib.iterrows():\n",
    "#    response = requests.get(\"https://www.yes24.com/Product/Search?domain=ALL&query={0}\".format(count['ISBN13번호']), headers=headers)\n",
    "#    URL = (\"https://www.yes24.com/Product/Search?domain=ALL&query={0}\".format(count['ISBN13번호']))\n",
    "#    print(\"URL 확인\", URL)"
   ]
  },
  {
   "cell_type": "code",
   "execution_count": 41,
   "metadata": {},
   "outputs": [
    {
     "name": "stdout",
     "output_type": "stream",
     "text": [
      "[<span class=\"val\">무료도서</span>]\n",
      "무료도서\n",
      "1 / {2}\n",
      "INSERT INTO Test_one.Book_Review (ISBN_THIRTEEN_NO, price, Vente_exposant, review_desc) VALUES('9791189026202', 0, 10.0, 2);\n",
      "[]\n",
      "2 / {2}\n",
      "INSERT INTO Test_one.Book_Review (ISBN_THIRTEEN_NO, price, Vente_exposant, review_desc) VALUES('9791189015657', -1, 9.4, 15);\n"
     ]
    }
   ],
   "source": [
    "conn = pymysql.connect(host='127.0.0.1',\n",
    "                       user='root',\n",
    "                       password='1234',\n",
    "                       db='Test_one',\n",
    "                       charset='utf8')\n",
    "cursor = conn.cursor()\n",
    "headers = {\n",
    "   'User-Agent': 'Mozilla/5.0 (Windows NT 10.0; Win64; x64) AppleWebKit/537.36 (KHTML, like Gecko) Chrome/58.0.3029.110 Safari/537.3'\n",
    "}\n",
    "\n",
    "Book_count = 0\n",
    "\n",
    "for index, count in Top_Lib.iterrows():\n",
    "    response = requests.get(\"https://search.kyobobook.co.kr/search?keyword={0}&gbCode=TOT&target=total\".format(count['ISBN13번호']), headers=headers)\n",
    "        \n",
    "    html = response.content.decode('utf-8','replace')\n",
    "    soup = BeautifulSoup(html, 'html.parser',from_encoding='cp949')\n",
    "\n",
    "    my_st = soup.select(\n",
    "        '#shopData_list > ul > li > div.prod_area.horizontal > div.prod_info_box'\n",
    "    )\n",
    "    \n",
    "    for stock_name in my_st:\n",
    "        try:\n",
    "            price_elements = stock_name.select(\"#shopData_list > ul > li > div.prod_area.horizontal > div.prod_info_box > div.prod_price > span.price > span.val\")\n",
    "\n",
    "            print(price_elements)\n",
    "            if price_elements == []:\n",
    "                Price_varchar = -1\n",
    "            else:\n",
    "                if price_elements and price_elements[0]:\n",
    "                    Book_Price = price_elements[0].text\n",
    "                    Price_varchar = Book_Price.replace(',','')\n",
    "                    print(Price_varchar)\n",
    "                    \n",
    "                else:\n",
    "                    Book_Price = \"0\"\n",
    "\n",
    "        except IndexError as e:\n",
    "            print(\"Book_Price 처리 중 에러:\", e)\n",
    "            Book_Price = \"0\"\n",
    "        \n",
    "        try:\n",
    "            Vente_exposant = stock_name.select(\"#shopData_list > ul > li > div.prod_area.horizontal > div.prod_info_box > div.prod_bottom > a > span.review_klover_box\")\n",
    "        \n",
    "            if Vente_exposant and Vente_exposant[0]:\n",
    "                Vente_exposant_text = Vente_exposant[0].text\n",
    "\n",
    "                Vente_exposant_text_one = '%-11s' % (' ').join(Vente_exposant_text.split())\n",
    "                matches = re.findall(r'[\\d.]+', Vente_exposant_text_one)\n",
    "                # print(Vente_exposant_text_one)\n",
    "                ranking = matches[0]\n",
    "            else:\n",
    "                Vente_exposant_text = \"0\"\n",
    "\n",
    "        except IndexError as e:\n",
    "            print(\"review_desc 처리 중 에러:\", e)\n",
    "            Vente_exposant_text = \"0\"\n",
    "\n",
    "        try:\n",
    "            Vente_exposant = stock_name.select(\"#shopData_list > ul > li > div.prod_area.horizontal > div.prod_info_box > div.prod_bottom > a > span.review_klover_box\")\n",
    "        \n",
    "            if Vente_exposant and Vente_exposant[0]:\n",
    "                Vente_exposant_text = Vente_exposant[0].text\n",
    "\n",
    "                Vente_exposant_text_one = '%-11s' % (' ').join(Vente_exposant_text.split())\n",
    "                matches = re.findall(r'[\\d.]+', Vente_exposant_text_one)\n",
    "                # print(Vente_exposant_text_one)\n",
    "                review_desc = matches[1]\n",
    "            else:\n",
    "                Vente_exposant_text = \"0\"\n",
    "\n",
    "        except IndexError as e:\n",
    "            print(\"review_desc 처리 중 에러:\", e)\n",
    "            Vente_exposant_text = \"0\"\n",
    "       \n",
    "    \n",
    "    Book_count += 1\n",
    "        # Replace '무료도서' with 0 for the 'price' column\n",
    "    sql = \"INSERT INTO Test_one.Book_Review (ISBN_THIRTEEN_NO, price, Vente_exposant, review_desc) VALUES('{0}', {1}, {2}, {3});\".format(str(count['ISBN13번호']),0 if Price_varchar == '무료도서' or Price_varchar == '절판되었습니다.' else int(Price_varchar) if Price_varchar is not None else 0,ranking, review_desc)\n",
    "    print(Book_count, \"/\", {num_rows})\n",
    "    print(sql)\n",
    "    conn.commit()\n",
    "    cursor.execute(sql)"
   ]
  }
 ],
 "metadata": {
  "kernelspec": {
   "display_name": "Python 3",
   "language": "python",
   "name": "python3"
  },
  "language_info": {
   "codemirror_mode": {
    "name": "ipython",
    "version": 3
   },
   "file_extension": ".py",
   "mimetype": "text/x-python",
   "name": "python",
   "nbconvert_exporter": "python",
   "pygments_lexer": "ipython3",
   "version": "3.8.3"
  }
 },
 "nbformat": 4,
 "nbformat_minor": 2
}
